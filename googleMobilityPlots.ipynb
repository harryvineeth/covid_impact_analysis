{
 "cells": [
  {
   "cell_type": "code",
   "execution_count": 165,
   "id": "24b9fd72",
   "metadata": {},
   "outputs": [],
   "source": [
    "import pandas as pd\n",
    "import numpy as np\n",
    "import plotly.express as px\n",
    "import plotly.graph_objects as go\n",
    "import plotly.graph_objects \n",
    "import calendar"
   ]
  },
  {
   "cell_type": "code",
   "execution_count": 209,
   "id": "00bef708",
   "metadata": {},
   "outputs": [],
   "source": [
    "nationalData = pd.read_csv('cleaned/googleNational.csv')\n",
    "stateData = pd.read_csv('cleaned/googleState.csv').set_index('sub_region_1')\n",
    "month_year = ['Feb 2020', 'Mar 2020', 'Apr 2020', 'May 2020', 'Jun 2020',\n",
    "       'Jul 2020', 'Aug 2020', 'Sep 2020', 'Oct 2020', 'Nov 2020',\n",
    "       'Dec 2020', 'Jan 2021', 'Feb 2021', 'Mar 2021', 'Apr 2021',\n",
    "       'May 2021', 'Jun 2021', 'Jul 2021', 'Aug 2021', 'Sep 2021',\n",
    "       'Oct 2021', 'Nov 2021']"
   ]
  },
  {
   "cell_type": "code",
   "execution_count": 210,
   "id": "34c2e270",
   "metadata": {},
   "outputs": [],
   "source": [
    "def df_to_plotly(df):\n",
    "    x = df.columns.tolist()\n",
    "    return {'z': df.values.tolist(),\n",
    "            'x': x,\n",
    "            'y': df.index.tolist()}"
   ]
  },
  {
   "cell_type": "code",
   "execution_count": 211,
   "id": "f6eadc54",
   "metadata": {},
   "outputs": [
    {
     "data": {
      "application/vnd.plotly.v1+json": {
       "config": {
        "plotlyServerURL": "https://plot.ly"
       },
       "data": [
        {
         "hovertemplate": "Date=%{x}<br>Percent Change From Baseline=%{y}<extra></extra>",
         "legendgroup": "",
         "line": {
          "color": "#636efa",
          "dash": "solid"
         },
         "mode": "lines",
         "name": "",
         "orientation": "v",
         "showlegend": false,
         "type": "scatter",
         "x": [
          "Feb 2020",
          "Mar 2020",
          "Apr 2020",
          "May 2020",
          "Jun 2020",
          "Jul 2020",
          "Aug 2020",
          "Sep 2020",
          "Oct 2020",
          "Nov 2020",
          "Dec 2020",
          "Jan 2021",
          "Feb 2021",
          "Mar 2021",
          "Apr 2021",
          "May 2021",
          "Jun 2021",
          "Jul 2021",
          "Aug 2021",
          "Sep 2021",
          "Oct 2021",
          "Nov 2021"
         ],
         "xaxis": "x",
         "y": [
          0,
          -19.161290322580644,
          -46.16666666666666,
          -36.774193548387096,
          -29.966666666666665,
          -32.903225806451616,
          -29.580645161290324,
          -29.433333333333334,
          -25.580645161290324,
          -29.3,
          -32.74193548387097,
          -29.193548387096776,
          -28.714285714285715,
          -25.774193548387096,
          -25.766666666666666,
          -24.93548387096774,
          -25.73333333333333,
          -27.870967741935484,
          -25.41935483870968,
          -24.133333333333333,
          -19.64516129032258,
          -24.59259259259259
         ],
         "yaxis": "y"
        }
       ],
       "layout": {
        "legend": {
         "tracegroupgap": 0
        },
        "template": {
         "data": {
          "bar": [
           {
            "error_x": {
             "color": "#2a3f5f"
            },
            "error_y": {
             "color": "#2a3f5f"
            },
            "marker": {
             "line": {
              "color": "#E5ECF6",
              "width": 0.5
             },
             "pattern": {
              "fillmode": "overlay",
              "size": 10,
              "solidity": 0.2
             }
            },
            "type": "bar"
           }
          ],
          "barpolar": [
           {
            "marker": {
             "line": {
              "color": "#E5ECF6",
              "width": 0.5
             },
             "pattern": {
              "fillmode": "overlay",
              "size": 10,
              "solidity": 0.2
             }
            },
            "type": "barpolar"
           }
          ],
          "carpet": [
           {
            "aaxis": {
             "endlinecolor": "#2a3f5f",
             "gridcolor": "white",
             "linecolor": "white",
             "minorgridcolor": "white",
             "startlinecolor": "#2a3f5f"
            },
            "baxis": {
             "endlinecolor": "#2a3f5f",
             "gridcolor": "white",
             "linecolor": "white",
             "minorgridcolor": "white",
             "startlinecolor": "#2a3f5f"
            },
            "type": "carpet"
           }
          ],
          "choropleth": [
           {
            "colorbar": {
             "outlinewidth": 0,
             "ticks": ""
            },
            "type": "choropleth"
           }
          ],
          "contour": [
           {
            "colorbar": {
             "outlinewidth": 0,
             "ticks": ""
            },
            "colorscale": [
             [
              0,
              "#0d0887"
             ],
             [
              0.1111111111111111,
              "#46039f"
             ],
             [
              0.2222222222222222,
              "#7201a8"
             ],
             [
              0.3333333333333333,
              "#9c179e"
             ],
             [
              0.4444444444444444,
              "#bd3786"
             ],
             [
              0.5555555555555556,
              "#d8576b"
             ],
             [
              0.6666666666666666,
              "#ed7953"
             ],
             [
              0.7777777777777778,
              "#fb9f3a"
             ],
             [
              0.8888888888888888,
              "#fdca26"
             ],
             [
              1,
              "#f0f921"
             ]
            ],
            "type": "contour"
           }
          ],
          "contourcarpet": [
           {
            "colorbar": {
             "outlinewidth": 0,
             "ticks": ""
            },
            "type": "contourcarpet"
           }
          ],
          "heatmap": [
           {
            "colorbar": {
             "outlinewidth": 0,
             "ticks": ""
            },
            "colorscale": [
             [
              0,
              "#0d0887"
             ],
             [
              0.1111111111111111,
              "#46039f"
             ],
             [
              0.2222222222222222,
              "#7201a8"
             ],
             [
              0.3333333333333333,
              "#9c179e"
             ],
             [
              0.4444444444444444,
              "#bd3786"
             ],
             [
              0.5555555555555556,
              "#d8576b"
             ],
             [
              0.6666666666666666,
              "#ed7953"
             ],
             [
              0.7777777777777778,
              "#fb9f3a"
             ],
             [
              0.8888888888888888,
              "#fdca26"
             ],
             [
              1,
              "#f0f921"
             ]
            ],
            "type": "heatmap"
           }
          ],
          "heatmapgl": [
           {
            "colorbar": {
             "outlinewidth": 0,
             "ticks": ""
            },
            "colorscale": [
             [
              0,
              "#0d0887"
             ],
             [
              0.1111111111111111,
              "#46039f"
             ],
             [
              0.2222222222222222,
              "#7201a8"
             ],
             [
              0.3333333333333333,
              "#9c179e"
             ],
             [
              0.4444444444444444,
              "#bd3786"
             ],
             [
              0.5555555555555556,
              "#d8576b"
             ],
             [
              0.6666666666666666,
              "#ed7953"
             ],
             [
              0.7777777777777778,
              "#fb9f3a"
             ],
             [
              0.8888888888888888,
              "#fdca26"
             ],
             [
              1,
              "#f0f921"
             ]
            ],
            "type": "heatmapgl"
           }
          ],
          "histogram": [
           {
            "marker": {
             "pattern": {
              "fillmode": "overlay",
              "size": 10,
              "solidity": 0.2
             }
            },
            "type": "histogram"
           }
          ],
          "histogram2d": [
           {
            "colorbar": {
             "outlinewidth": 0,
             "ticks": ""
            },
            "colorscale": [
             [
              0,
              "#0d0887"
             ],
             [
              0.1111111111111111,
              "#46039f"
             ],
             [
              0.2222222222222222,
              "#7201a8"
             ],
             [
              0.3333333333333333,
              "#9c179e"
             ],
             [
              0.4444444444444444,
              "#bd3786"
             ],
             [
              0.5555555555555556,
              "#d8576b"
             ],
             [
              0.6666666666666666,
              "#ed7953"
             ],
             [
              0.7777777777777778,
              "#fb9f3a"
             ],
             [
              0.8888888888888888,
              "#fdca26"
             ],
             [
              1,
              "#f0f921"
             ]
            ],
            "type": "histogram2d"
           }
          ],
          "histogram2dcontour": [
           {
            "colorbar": {
             "outlinewidth": 0,
             "ticks": ""
            },
            "colorscale": [
             [
              0,
              "#0d0887"
             ],
             [
              0.1111111111111111,
              "#46039f"
             ],
             [
              0.2222222222222222,
              "#7201a8"
             ],
             [
              0.3333333333333333,
              "#9c179e"
             ],
             [
              0.4444444444444444,
              "#bd3786"
             ],
             [
              0.5555555555555556,
              "#d8576b"
             ],
             [
              0.6666666666666666,
              "#ed7953"
             ],
             [
              0.7777777777777778,
              "#fb9f3a"
             ],
             [
              0.8888888888888888,
              "#fdca26"
             ],
             [
              1,
              "#f0f921"
             ]
            ],
            "type": "histogram2dcontour"
           }
          ],
          "mesh3d": [
           {
            "colorbar": {
             "outlinewidth": 0,
             "ticks": ""
            },
            "type": "mesh3d"
           }
          ],
          "parcoords": [
           {
            "line": {
             "colorbar": {
              "outlinewidth": 0,
              "ticks": ""
             }
            },
            "type": "parcoords"
           }
          ],
          "pie": [
           {
            "automargin": true,
            "type": "pie"
           }
          ],
          "scatter": [
           {
            "marker": {
             "colorbar": {
              "outlinewidth": 0,
              "ticks": ""
             }
            },
            "type": "scatter"
           }
          ],
          "scatter3d": [
           {
            "line": {
             "colorbar": {
              "outlinewidth": 0,
              "ticks": ""
             }
            },
            "marker": {
             "colorbar": {
              "outlinewidth": 0,
              "ticks": ""
             }
            },
            "type": "scatter3d"
           }
          ],
          "scattercarpet": [
           {
            "marker": {
             "colorbar": {
              "outlinewidth": 0,
              "ticks": ""
             }
            },
            "type": "scattercarpet"
           }
          ],
          "scattergeo": [
           {
            "marker": {
             "colorbar": {
              "outlinewidth": 0,
              "ticks": ""
             }
            },
            "type": "scattergeo"
           }
          ],
          "scattergl": [
           {
            "marker": {
             "colorbar": {
              "outlinewidth": 0,
              "ticks": ""
             }
            },
            "type": "scattergl"
           }
          ],
          "scattermapbox": [
           {
            "marker": {
             "colorbar": {
              "outlinewidth": 0,
              "ticks": ""
             }
            },
            "type": "scattermapbox"
           }
          ],
          "scatterpolar": [
           {
            "marker": {
             "colorbar": {
              "outlinewidth": 0,
              "ticks": ""
             }
            },
            "type": "scatterpolar"
           }
          ],
          "scatterpolargl": [
           {
            "marker": {
             "colorbar": {
              "outlinewidth": 0,
              "ticks": ""
             }
            },
            "type": "scatterpolargl"
           }
          ],
          "scatterternary": [
           {
            "marker": {
             "colorbar": {
              "outlinewidth": 0,
              "ticks": ""
             }
            },
            "type": "scatterternary"
           }
          ],
          "surface": [
           {
            "colorbar": {
             "outlinewidth": 0,
             "ticks": ""
            },
            "colorscale": [
             [
              0,
              "#0d0887"
             ],
             [
              0.1111111111111111,
              "#46039f"
             ],
             [
              0.2222222222222222,
              "#7201a8"
             ],
             [
              0.3333333333333333,
              "#9c179e"
             ],
             [
              0.4444444444444444,
              "#bd3786"
             ],
             [
              0.5555555555555556,
              "#d8576b"
             ],
             [
              0.6666666666666666,
              "#ed7953"
             ],
             [
              0.7777777777777778,
              "#fb9f3a"
             ],
             [
              0.8888888888888888,
              "#fdca26"
             ],
             [
              1,
              "#f0f921"
             ]
            ],
            "type": "surface"
           }
          ],
          "table": [
           {
            "cells": {
             "fill": {
              "color": "#EBF0F8"
             },
             "line": {
              "color": "white"
             }
            },
            "header": {
             "fill": {
              "color": "#C8D4E3"
             },
             "line": {
              "color": "white"
             }
            },
            "type": "table"
           }
          ]
         },
         "layout": {
          "annotationdefaults": {
           "arrowcolor": "#2a3f5f",
           "arrowhead": 0,
           "arrowwidth": 1
          },
          "autotypenumbers": "strict",
          "coloraxis": {
           "colorbar": {
            "outlinewidth": 0,
            "ticks": ""
           }
          },
          "colorscale": {
           "diverging": [
            [
             0,
             "#8e0152"
            ],
            [
             0.1,
             "#c51b7d"
            ],
            [
             0.2,
             "#de77ae"
            ],
            [
             0.3,
             "#f1b6da"
            ],
            [
             0.4,
             "#fde0ef"
            ],
            [
             0.5,
             "#f7f7f7"
            ],
            [
             0.6,
             "#e6f5d0"
            ],
            [
             0.7,
             "#b8e186"
            ],
            [
             0.8,
             "#7fbc41"
            ],
            [
             0.9,
             "#4d9221"
            ],
            [
             1,
             "#276419"
            ]
           ],
           "sequential": [
            [
             0,
             "#0d0887"
            ],
            [
             0.1111111111111111,
             "#46039f"
            ],
            [
             0.2222222222222222,
             "#7201a8"
            ],
            [
             0.3333333333333333,
             "#9c179e"
            ],
            [
             0.4444444444444444,
             "#bd3786"
            ],
            [
             0.5555555555555556,
             "#d8576b"
            ],
            [
             0.6666666666666666,
             "#ed7953"
            ],
            [
             0.7777777777777778,
             "#fb9f3a"
            ],
            [
             0.8888888888888888,
             "#fdca26"
            ],
            [
             1,
             "#f0f921"
            ]
           ],
           "sequentialminus": [
            [
             0,
             "#0d0887"
            ],
            [
             0.1111111111111111,
             "#46039f"
            ],
            [
             0.2222222222222222,
             "#7201a8"
            ],
            [
             0.3333333333333333,
             "#9c179e"
            ],
            [
             0.4444444444444444,
             "#bd3786"
            ],
            [
             0.5555555555555556,
             "#d8576b"
            ],
            [
             0.6666666666666666,
             "#ed7953"
            ],
            [
             0.7777777777777778,
             "#fb9f3a"
            ],
            [
             0.8888888888888888,
             "#fdca26"
            ],
            [
             1,
             "#f0f921"
            ]
           ]
          },
          "colorway": [
           "#636efa",
           "#EF553B",
           "#00cc96",
           "#ab63fa",
           "#FFA15A",
           "#19d3f3",
           "#FF6692",
           "#B6E880",
           "#FF97FF",
           "#FECB52"
          ],
          "font": {
           "color": "#2a3f5f"
          },
          "geo": {
           "bgcolor": "white",
           "lakecolor": "white",
           "landcolor": "#E5ECF6",
           "showlakes": true,
           "showland": true,
           "subunitcolor": "white"
          },
          "hoverlabel": {
           "align": "left"
          },
          "hovermode": "closest",
          "mapbox": {
           "style": "light"
          },
          "paper_bgcolor": "white",
          "plot_bgcolor": "#E5ECF6",
          "polar": {
           "angularaxis": {
            "gridcolor": "white",
            "linecolor": "white",
            "ticks": ""
           },
           "bgcolor": "#E5ECF6",
           "radialaxis": {
            "gridcolor": "white",
            "linecolor": "white",
            "ticks": ""
           }
          },
          "scene": {
           "xaxis": {
            "backgroundcolor": "#E5ECF6",
            "gridcolor": "white",
            "gridwidth": 2,
            "linecolor": "white",
            "showbackground": true,
            "ticks": "",
            "zerolinecolor": "white"
           },
           "yaxis": {
            "backgroundcolor": "#E5ECF6",
            "gridcolor": "white",
            "gridwidth": 2,
            "linecolor": "white",
            "showbackground": true,
            "ticks": "",
            "zerolinecolor": "white"
           },
           "zaxis": {
            "backgroundcolor": "#E5ECF6",
            "gridcolor": "white",
            "gridwidth": 2,
            "linecolor": "white",
            "showbackground": true,
            "ticks": "",
            "zerolinecolor": "white"
           }
          },
          "shapedefaults": {
           "line": {
            "color": "#2a3f5f"
           }
          },
          "ternary": {
           "aaxis": {
            "gridcolor": "white",
            "linecolor": "white",
            "ticks": ""
           },
           "baxis": {
            "gridcolor": "white",
            "linecolor": "white",
            "ticks": ""
           },
           "bgcolor": "#E5ECF6",
           "caxis": {
            "gridcolor": "white",
            "linecolor": "white",
            "ticks": ""
           }
          },
          "title": {
           "x": 0.05
          },
          "xaxis": {
           "automargin": true,
           "gridcolor": "white",
           "linecolor": "white",
           "ticks": "",
           "title": {
            "standoff": 15
           },
           "zerolinecolor": "white",
           "zerolinewidth": 2
          },
          "yaxis": {
           "automargin": true,
           "gridcolor": "white",
           "linecolor": "white",
           "ticks": "",
           "title": {
            "standoff": 15
           },
           "zerolinecolor": "white",
           "zerolinewidth": 2
          }
         }
        },
        "title": {
         "text": "Google Mobility - Workplace (National)"
        },
        "xaxis": {
         "anchor": "y",
         "domain": [
          0,
          1
         ],
         "title": {
          "text": "Date"
         }
        },
        "yaxis": {
         "anchor": "x",
         "domain": [
          0,
          1
         ],
         "title": {
          "text": "Percent Change From Baseline"
         }
        }
       }
      },
      "text/html": [
       "<div>                            <div id=\"be5d96f0-c88d-4854-91d6-a2b6d509c8ce\" class=\"plotly-graph-div\" style=\"height:525px; width:100%;\"></div>            <script type=\"text/javascript\">                require([\"plotly\"], function(Plotly) {                    window.PLOTLYENV=window.PLOTLYENV || {};                                    if (document.getElementById(\"be5d96f0-c88d-4854-91d6-a2b6d509c8ce\")) {                    Plotly.newPlot(                        \"be5d96f0-c88d-4854-91d6-a2b6d509c8ce\",                        [{\"hovertemplate\":\"Date=%{x}<br>Percent Change From Baseline=%{y}<extra></extra>\",\"legendgroup\":\"\",\"line\":{\"color\":\"#636efa\",\"dash\":\"solid\"},\"mode\":\"lines\",\"name\":\"\",\"orientation\":\"v\",\"showlegend\":false,\"type\":\"scatter\",\"x\":[\"Feb 2020\",\"Mar 2020\",\"Apr 2020\",\"May 2020\",\"Jun 2020\",\"Jul 2020\",\"Aug 2020\",\"Sep 2020\",\"Oct 2020\",\"Nov 2020\",\"Dec 2020\",\"Jan 2021\",\"Feb 2021\",\"Mar 2021\",\"Apr 2021\",\"May 2021\",\"Jun 2021\",\"Jul 2021\",\"Aug 2021\",\"Sep 2021\",\"Oct 2021\",\"Nov 2021\"],\"xaxis\":\"x\",\"y\":[0.0,-19.161290322580644,-46.16666666666666,-36.774193548387096,-29.966666666666665,-32.903225806451616,-29.580645161290324,-29.433333333333334,-25.580645161290324,-29.3,-32.74193548387097,-29.193548387096776,-28.714285714285715,-25.774193548387096,-25.766666666666666,-24.93548387096774,-25.73333333333333,-27.870967741935484,-25.41935483870968,-24.133333333333333,-19.64516129032258,-24.59259259259259],\"yaxis\":\"y\"}],                        {\"legend\":{\"tracegroupgap\":0},\"template\":{\"data\":{\"bar\":[{\"error_x\":{\"color\":\"#2a3f5f\"},\"error_y\":{\"color\":\"#2a3f5f\"},\"marker\":{\"line\":{\"color\":\"#E5ECF6\",\"width\":0.5},\"pattern\":{\"fillmode\":\"overlay\",\"size\":10,\"solidity\":0.2}},\"type\":\"bar\"}],\"barpolar\":[{\"marker\":{\"line\":{\"color\":\"#E5ECF6\",\"width\":0.5},\"pattern\":{\"fillmode\":\"overlay\",\"size\":10,\"solidity\":0.2}},\"type\":\"barpolar\"}],\"carpet\":[{\"aaxis\":{\"endlinecolor\":\"#2a3f5f\",\"gridcolor\":\"white\",\"linecolor\":\"white\",\"minorgridcolor\":\"white\",\"startlinecolor\":\"#2a3f5f\"},\"baxis\":{\"endlinecolor\":\"#2a3f5f\",\"gridcolor\":\"white\",\"linecolor\":\"white\",\"minorgridcolor\":\"white\",\"startlinecolor\":\"#2a3f5f\"},\"type\":\"carpet\"}],\"choropleth\":[{\"colorbar\":{\"outlinewidth\":0,\"ticks\":\"\"},\"type\":\"choropleth\"}],\"contour\":[{\"colorbar\":{\"outlinewidth\":0,\"ticks\":\"\"},\"colorscale\":[[0.0,\"#0d0887\"],[0.1111111111111111,\"#46039f\"],[0.2222222222222222,\"#7201a8\"],[0.3333333333333333,\"#9c179e\"],[0.4444444444444444,\"#bd3786\"],[0.5555555555555556,\"#d8576b\"],[0.6666666666666666,\"#ed7953\"],[0.7777777777777778,\"#fb9f3a\"],[0.8888888888888888,\"#fdca26\"],[1.0,\"#f0f921\"]],\"type\":\"contour\"}],\"contourcarpet\":[{\"colorbar\":{\"outlinewidth\":0,\"ticks\":\"\"},\"type\":\"contourcarpet\"}],\"heatmap\":[{\"colorbar\":{\"outlinewidth\":0,\"ticks\":\"\"},\"colorscale\":[[0.0,\"#0d0887\"],[0.1111111111111111,\"#46039f\"],[0.2222222222222222,\"#7201a8\"],[0.3333333333333333,\"#9c179e\"],[0.4444444444444444,\"#bd3786\"],[0.5555555555555556,\"#d8576b\"],[0.6666666666666666,\"#ed7953\"],[0.7777777777777778,\"#fb9f3a\"],[0.8888888888888888,\"#fdca26\"],[1.0,\"#f0f921\"]],\"type\":\"heatmap\"}],\"heatmapgl\":[{\"colorbar\":{\"outlinewidth\":0,\"ticks\":\"\"},\"colorscale\":[[0.0,\"#0d0887\"],[0.1111111111111111,\"#46039f\"],[0.2222222222222222,\"#7201a8\"],[0.3333333333333333,\"#9c179e\"],[0.4444444444444444,\"#bd3786\"],[0.5555555555555556,\"#d8576b\"],[0.6666666666666666,\"#ed7953\"],[0.7777777777777778,\"#fb9f3a\"],[0.8888888888888888,\"#fdca26\"],[1.0,\"#f0f921\"]],\"type\":\"heatmapgl\"}],\"histogram\":[{\"marker\":{\"pattern\":{\"fillmode\":\"overlay\",\"size\":10,\"solidity\":0.2}},\"type\":\"histogram\"}],\"histogram2d\":[{\"colorbar\":{\"outlinewidth\":0,\"ticks\":\"\"},\"colorscale\":[[0.0,\"#0d0887\"],[0.1111111111111111,\"#46039f\"],[0.2222222222222222,\"#7201a8\"],[0.3333333333333333,\"#9c179e\"],[0.4444444444444444,\"#bd3786\"],[0.5555555555555556,\"#d8576b\"],[0.6666666666666666,\"#ed7953\"],[0.7777777777777778,\"#fb9f3a\"],[0.8888888888888888,\"#fdca26\"],[1.0,\"#f0f921\"]],\"type\":\"histogram2d\"}],\"histogram2dcontour\":[{\"colorbar\":{\"outlinewidth\":0,\"ticks\":\"\"},\"colorscale\":[[0.0,\"#0d0887\"],[0.1111111111111111,\"#46039f\"],[0.2222222222222222,\"#7201a8\"],[0.3333333333333333,\"#9c179e\"],[0.4444444444444444,\"#bd3786\"],[0.5555555555555556,\"#d8576b\"],[0.6666666666666666,\"#ed7953\"],[0.7777777777777778,\"#fb9f3a\"],[0.8888888888888888,\"#fdca26\"],[1.0,\"#f0f921\"]],\"type\":\"histogram2dcontour\"}],\"mesh3d\":[{\"colorbar\":{\"outlinewidth\":0,\"ticks\":\"\"},\"type\":\"mesh3d\"}],\"parcoords\":[{\"line\":{\"colorbar\":{\"outlinewidth\":0,\"ticks\":\"\"}},\"type\":\"parcoords\"}],\"pie\":[{\"automargin\":true,\"type\":\"pie\"}],\"scatter\":[{\"marker\":{\"colorbar\":{\"outlinewidth\":0,\"ticks\":\"\"}},\"type\":\"scatter\"}],\"scatter3d\":[{\"line\":{\"colorbar\":{\"outlinewidth\":0,\"ticks\":\"\"}},\"marker\":{\"colorbar\":{\"outlinewidth\":0,\"ticks\":\"\"}},\"type\":\"scatter3d\"}],\"scattercarpet\":[{\"marker\":{\"colorbar\":{\"outlinewidth\":0,\"ticks\":\"\"}},\"type\":\"scattercarpet\"}],\"scattergeo\":[{\"marker\":{\"colorbar\":{\"outlinewidth\":0,\"ticks\":\"\"}},\"type\":\"scattergeo\"}],\"scattergl\":[{\"marker\":{\"colorbar\":{\"outlinewidth\":0,\"ticks\":\"\"}},\"type\":\"scattergl\"}],\"scattermapbox\":[{\"marker\":{\"colorbar\":{\"outlinewidth\":0,\"ticks\":\"\"}},\"type\":\"scattermapbox\"}],\"scatterpolar\":[{\"marker\":{\"colorbar\":{\"outlinewidth\":0,\"ticks\":\"\"}},\"type\":\"scatterpolar\"}],\"scatterpolargl\":[{\"marker\":{\"colorbar\":{\"outlinewidth\":0,\"ticks\":\"\"}},\"type\":\"scatterpolargl\"}],\"scatterternary\":[{\"marker\":{\"colorbar\":{\"outlinewidth\":0,\"ticks\":\"\"}},\"type\":\"scatterternary\"}],\"surface\":[{\"colorbar\":{\"outlinewidth\":0,\"ticks\":\"\"},\"colorscale\":[[0.0,\"#0d0887\"],[0.1111111111111111,\"#46039f\"],[0.2222222222222222,\"#7201a8\"],[0.3333333333333333,\"#9c179e\"],[0.4444444444444444,\"#bd3786\"],[0.5555555555555556,\"#d8576b\"],[0.6666666666666666,\"#ed7953\"],[0.7777777777777778,\"#fb9f3a\"],[0.8888888888888888,\"#fdca26\"],[1.0,\"#f0f921\"]],\"type\":\"surface\"}],\"table\":[{\"cells\":{\"fill\":{\"color\":\"#EBF0F8\"},\"line\":{\"color\":\"white\"}},\"header\":{\"fill\":{\"color\":\"#C8D4E3\"},\"line\":{\"color\":\"white\"}},\"type\":\"table\"}]},\"layout\":{\"annotationdefaults\":{\"arrowcolor\":\"#2a3f5f\",\"arrowhead\":0,\"arrowwidth\":1},\"autotypenumbers\":\"strict\",\"coloraxis\":{\"colorbar\":{\"outlinewidth\":0,\"ticks\":\"\"}},\"colorscale\":{\"diverging\":[[0,\"#8e0152\"],[0.1,\"#c51b7d\"],[0.2,\"#de77ae\"],[0.3,\"#f1b6da\"],[0.4,\"#fde0ef\"],[0.5,\"#f7f7f7\"],[0.6,\"#e6f5d0\"],[0.7,\"#b8e186\"],[0.8,\"#7fbc41\"],[0.9,\"#4d9221\"],[1,\"#276419\"]],\"sequential\":[[0.0,\"#0d0887\"],[0.1111111111111111,\"#46039f\"],[0.2222222222222222,\"#7201a8\"],[0.3333333333333333,\"#9c179e\"],[0.4444444444444444,\"#bd3786\"],[0.5555555555555556,\"#d8576b\"],[0.6666666666666666,\"#ed7953\"],[0.7777777777777778,\"#fb9f3a\"],[0.8888888888888888,\"#fdca26\"],[1.0,\"#f0f921\"]],\"sequentialminus\":[[0.0,\"#0d0887\"],[0.1111111111111111,\"#46039f\"],[0.2222222222222222,\"#7201a8\"],[0.3333333333333333,\"#9c179e\"],[0.4444444444444444,\"#bd3786\"],[0.5555555555555556,\"#d8576b\"],[0.6666666666666666,\"#ed7953\"],[0.7777777777777778,\"#fb9f3a\"],[0.8888888888888888,\"#fdca26\"],[1.0,\"#f0f921\"]]},\"colorway\":[\"#636efa\",\"#EF553B\",\"#00cc96\",\"#ab63fa\",\"#FFA15A\",\"#19d3f3\",\"#FF6692\",\"#B6E880\",\"#FF97FF\",\"#FECB52\"],\"font\":{\"color\":\"#2a3f5f\"},\"geo\":{\"bgcolor\":\"white\",\"lakecolor\":\"white\",\"landcolor\":\"#E5ECF6\",\"showlakes\":true,\"showland\":true,\"subunitcolor\":\"white\"},\"hoverlabel\":{\"align\":\"left\"},\"hovermode\":\"closest\",\"mapbox\":{\"style\":\"light\"},\"paper_bgcolor\":\"white\",\"plot_bgcolor\":\"#E5ECF6\",\"polar\":{\"angularaxis\":{\"gridcolor\":\"white\",\"linecolor\":\"white\",\"ticks\":\"\"},\"bgcolor\":\"#E5ECF6\",\"radialaxis\":{\"gridcolor\":\"white\",\"linecolor\":\"white\",\"ticks\":\"\"}},\"scene\":{\"xaxis\":{\"backgroundcolor\":\"#E5ECF6\",\"gridcolor\":\"white\",\"gridwidth\":2,\"linecolor\":\"white\",\"showbackground\":true,\"ticks\":\"\",\"zerolinecolor\":\"white\"},\"yaxis\":{\"backgroundcolor\":\"#E5ECF6\",\"gridcolor\":\"white\",\"gridwidth\":2,\"linecolor\":\"white\",\"showbackground\":true,\"ticks\":\"\",\"zerolinecolor\":\"white\"},\"zaxis\":{\"backgroundcolor\":\"#E5ECF6\",\"gridcolor\":\"white\",\"gridwidth\":2,\"linecolor\":\"white\",\"showbackground\":true,\"ticks\":\"\",\"zerolinecolor\":\"white\"}},\"shapedefaults\":{\"line\":{\"color\":\"#2a3f5f\"}},\"ternary\":{\"aaxis\":{\"gridcolor\":\"white\",\"linecolor\":\"white\",\"ticks\":\"\"},\"baxis\":{\"gridcolor\":\"white\",\"linecolor\":\"white\",\"ticks\":\"\"},\"bgcolor\":\"#E5ECF6\",\"caxis\":{\"gridcolor\":\"white\",\"linecolor\":\"white\",\"ticks\":\"\"}},\"title\":{\"x\":0.05},\"xaxis\":{\"automargin\":true,\"gridcolor\":\"white\",\"linecolor\":\"white\",\"ticks\":\"\",\"title\":{\"standoff\":15},\"zerolinecolor\":\"white\",\"zerolinewidth\":2},\"yaxis\":{\"automargin\":true,\"gridcolor\":\"white\",\"linecolor\":\"white\",\"ticks\":\"\",\"title\":{\"standoff\":15},\"zerolinecolor\":\"white\",\"zerolinewidth\":2}}},\"title\":{\"text\":\"Google Mobility - Workplace (National)\"},\"xaxis\":{\"anchor\":\"y\",\"domain\":[0.0,1.0],\"title\":{\"text\":\"Date\"}},\"yaxis\":{\"anchor\":\"x\",\"domain\":[0.0,1.0],\"title\":{\"text\":\"Percent Change From Baseline\"}}},                        {\"responsive\": true}                    ).then(function(){\n",
       "                            \n",
       "var gd = document.getElementById('be5d96f0-c88d-4854-91d6-a2b6d509c8ce');\n",
       "var x = new MutationObserver(function (mutations, observer) {{\n",
       "        var display = window.getComputedStyle(gd).display;\n",
       "        if (!display || display === 'none') {{\n",
       "            console.log([gd, 'removed!']);\n",
       "            Plotly.purge(gd);\n",
       "            observer.disconnect();\n",
       "        }}\n",
       "}});\n",
       "\n",
       "// Listen for the removal of the full notebook cells\n",
       "var notebookContainer = gd.closest('#notebook-container');\n",
       "if (notebookContainer) {{\n",
       "    x.observe(notebookContainer, {childList: true});\n",
       "}}\n",
       "\n",
       "// Listen for the clearing of the current output cell\n",
       "var outputEl = gd.closest('.output');\n",
       "if (outputEl) {{\n",
       "    x.observe(outputEl, {childList: true});\n",
       "}}\n",
       "\n",
       "                        })                };                });            </script>        </div>"
      ]
     },
     "metadata": {},
     "output_type": "display_data"
    }
   ],
   "source": [
    "nationalWorkFig = px.line(nationalData, x= month_year, y= nationalData['workplaces_percent_change_from_baseline'],\n",
    "                         title = 'Google Mobility - Workplace (National)',\n",
    "                         labels={\n",
    "                             'workplaces_percent_change_from_baseline':'Percent Change From Baseline',\n",
    "                             'x':'Date'\n",
    "                         }) \n",
    "nationalWorkFig.show()"
   ]
  },
  {
   "cell_type": "code",
   "execution_count": 214,
   "id": "08b6f4de",
   "metadata": {},
   "outputs": [
    {
     "data": {
      "application/vnd.plotly.v1+json": {
       "config": {
        "plotlyServerURL": "https://plot.ly"
       },
       "data": [
        {
         "colorscale": [
          [
           0,
           "rgb(103,0,31)"
          ],
          [
           0.1,
           "rgb(178,24,43)"
          ],
          [
           0.2,
           "rgb(214,96,77)"
          ],
          [
           0.3,
           "rgb(244,165,130)"
          ],
          [
           0.4,
           "rgb(253,219,199)"
          ],
          [
           0.5,
           "rgb(247,247,247)"
          ],
          [
           0.6,
           "rgb(209,229,240)"
          ],
          [
           0.7,
           "rgb(146,197,222)"
          ],
          [
           0.8,
           "rgb(67,147,195)"
          ],
          [
           0.9,
           "rgb(33,102,172)"
          ],
          [
           1,
           "rgb(5,48,97)"
          ]
         ],
         "type": "heatmap",
         "x": [
          "Feb 2020",
          "Mar 2020",
          "Apr 2020",
          "May 2020",
          "Jun 2020",
          "Jul 2020",
          "Aug 2020",
          "Sep 2020",
          "Oct 2020",
          "Nov 2020",
          "Dec 2020",
          "Jan 2021",
          "Feb 2021",
          "Mar 2021",
          "Apr 2021",
          "May 2021",
          "Jun 2021",
          "Jul 2021",
          "Aug 2021",
          "Sep 2021",
          "Oct 2021",
          "Nov 2021"
         ],
         "y": [
          "Alabama",
          "Alaska",
          "Arizona",
          "Arkansas",
          "California",
          "Colorado",
          "Connecticut",
          "Delaware",
          "Florida",
          "Georgia",
          "Hawaii",
          "Idaho",
          "Illinois",
          "Indiana",
          "Iowa",
          "Kansas",
          "Kentucky",
          "Louisiana",
          "Maine",
          "Maryland",
          "Massachusetts",
          "Michigan",
          "Minnesota",
          "Mississippi",
          "Missouri",
          "Montana",
          "Nebraska",
          "Nevada",
          "New Hampshire",
          "New Jersey",
          "New Mexico",
          "New York",
          "North Carolina",
          "North Dakota",
          "Ohio",
          "Oklahoma",
          "Oregon",
          "Pennsylvania",
          "Rhode Island",
          "South Carolina",
          "South Dakota",
          "Tennessee",
          "Texas",
          "Utah",
          "Vermont",
          "Virginia",
          "Washington",
          "West Virginia",
          "Wisconsin",
          "Wyoming"
         ],
         "z": [
          [
           -0.0439442658092175,
           -11.712020460358056,
           -33.46923879040667,
           -24.902001026167262,
           -20.877946568884237,
           -25.302325581395348,
           -22.094283593170008,
           -21.306122448979597,
           -18.30941475826972,
           -21.733862433862438,
           -24.78582278481013,
           -20.699691991786448,
           -18.556306306306308,
           -16.48938321536906,
           -15.939425587467364,
           -16.46205128205128,
           -16.964509394572026,
           -19.710166919575112,
           -17.183663115169963,
           -15.9828125,
           -12.39294839039346,
           -17.437174290677476
          ],
          [
           -0.6083916083916084,
           -15.17684887459807,
           -33.10126582278481,
           -23.91167192429022,
           -18.67628205128205,
           -22.67391304347826,
           -21.221153846153847,
           -17.021367521367523,
           -15.542857142857144,
           -25.07467532467533,
           -26.64741641337386,
           -23.371875,
           -20.20890410958904,
           -18.85185185185185,
           -15.336569579288026,
           -18.727564102564106,
           -20.187898089171973,
           -20.33228840125392,
           -17.676567656765677,
           -17.76923076923077,
           -15.917491749174918,
           -21.741818181818186
          ],
          [
           -1.5404255319148936,
           -15.940451745379876,
           -37.45338983050848,
           -30.01440329218107,
           -26.52330508474576,
           -31.924180327868854,
           -28.81882352941177,
           -27.908045977011493,
           -25.13552361396304,
           -27.076433121019107,
           -30.014344262295083,
           -27.33333333333333,
           -23.11590909090909,
           -22.325819672131143,
           -19.5,
           -20.020576131687243,
           -24.972457627118644,
           -25.634496919917865,
           -21.57700205338809,
           -20.572033898305083,
           -19.46296296296296,
           -22.992941176470588
          ],
          [
           0.0856507230255839,
           -11.558441558441558,
           -29.094427244582043,
           -23.367304707708225,
           -20.603366649132035,
           -25.21904761904762,
           -22.51335055986219,
           -18.49820273184759,
           -16.104615384615386,
           -21.81342494714588,
           -24.496236828901157,
           -19.24078879086663,
           -27.11791642816257,
           -15.90391459074733,
           -13.643574828133262,
           -15.757845188284518,
           -19.04029304029304,
           -21.63719512195122,
           -17.851020408163265,
           -15.083333333333334,
           -10.906855049712192,
           -17.065735892961023
          ],
          [
           -1.9655172413793105,
           -19.52492836676218,
           -42.781582054309325,
           -34.357798165137616,
           -27.84597156398104,
           -31.166284403669724,
           -30.304202801867916,
           -29.143603133159267,
           -24.98390804597701,
           -28.87914691943128,
           -33.368059530623924,
           -31.31597023468804,
           -27.645345155161493,
           -26.17438536306461,
           -25.685764914353214,
           -24.27413793103448,
           -25.37900355871886,
           -27.20964962665135,
           -25.07749712973593,
           -23.40780141843972,
           -20.52580275229358,
           -26.11892247043364
          ],
          [
           0.215962441314554,
           -20.015272727272727,
           -43.54597701149425,
           -34.30503597122302,
           -27.203552923760174,
           -28.55444839857651,
           -27.02457264957265,
           -23.711132437619963,
           -22.064586357039182,
           -28.543833580980685,
           -30.63655610444601,
           -24.175953079178885,
           -22.130818619582666,
           -22.916787264833573,
           -22.202844311377245,
           -24.260393873085334,
           -25.448784082535003,
           -25.04447632711621,
           -22.242028985507247,
           -20.98138495904691,
           -19.240822320117477,
           -25.49172185430464
          ],
          [
           -0.9333333333333332,
           -19.27598566308244,
           -47.077777777777776,
           -37.913978494623656,
           -29.57777777777778,
           -31.17562724014337,
           -29.28301886792453,
           -26.11026615969582,
           -21.00716845878136,
           -25.492592592592597,
           -31.27956989247312,
           -26.6415770609319,
           -26.694444444444443,
           -21.25089605734767,
           -23.02962962962963,
           -19.49820788530466,
           -19.525925925925925,
           -24.017921146953405,
           -22.688172043010752,
           -19.38888888888889,
           -13.57706093189964,
           -18.012345679012345
          ],
          [
           1.1,
           -16.943548387096776,
           -43.79166666666666,
           -35.604838709677416,
           -26.666666666666668,
           -27.95967741935484,
           -24.887096774193548,
           -24.65833333333333,
           -21.387096774193548,
           -24.941666666666663,
           -28.41935483870968,
           -25.951612903225808,
           -26.223214285714285,
           -22.12903225806452,
           -23.641666666666666,
           -21.346774193548388,
           -20.55,
           -22.137096774193548,
           -20.725806451612904,
           -20.23333333333333,
           -15.806451612903226,
           -20.935185185185187
          ],
          [
           -0.4943705220061412,
           -14.415475603745689,
           -37.90868038133467,
           -28.39578224619912,
           -23.932997481108316,
           -29.16990291262136,
           -27.84248642124321,
           -26.12406231967686,
           -21.484848484848484,
           -25.265553869499243,
           -25.85986328125,
           -22.431295843520783,
           -19.31161780673181,
           -19.3307240704501,
           -17.95226003047232,
           -17.599802371541504,
           -21.005032712632108,
           -24.34943875061005,
           -22.89442815249267,
           -20.358767054067712,
           -16.254554406696208,
           -21.209994385176863
          ],
          [
           -1.0709969788519638,
           -13.086790653314258,
           -35.8757778841551,
           -26.63569216106743,
           -22.375606207565472,
           -27.219432821943283,
           -24.265162721893493,
           -20.83642765685019,
           -18.0687692672516,
           -20.927568366592755,
           -24.051209772140005,
           -21.386379928315414,
           -17.606656184486372,
           -16.241711732894426,
           -18.53223460979157,
           -18.130320420851262,
           -20.139467312348668,
           -22.12720848056537,
           -18.66792363893472,
           -17.547526673132882,
           -14.27946449916328,
           -18.587916553779465
          ],
          [
           -2.7066666666666666,
           -18.90967741935484,
           -47.48,
           -39.75483870967742,
           -31.973333333333333,
           -34.096774193548384,
           -34.212765957446805,
           -36.94366197183098,
           -32.825806451612905,
           -33.2,
           -32.329032258064515,
           -31.561290322580646,
           -29.564285714285717,
           -28.748387096774195,
           -25.886666666666667,
           -26.30967741935484,
           -28.5,
           -28.716129032258063,
           -26.954838709677414,
           -26.91333333333333,
           -26.070967741935483,
           -27.83703703703704
          ],
          [
           0.2336842105263158,
           -13.372319688109162,
           -36.2341650671785,
           -26.723800195886387,
           -21.03531786074672,
           -24.631681243926145,
           -23.00633914421553,
           -18.53835800807537,
           -16.66369930761622,
           -21.1799591002045,
           -22.6,
           -16.49,
           -14.020674646354731,
           -13.943743937924346,
           -13.039235412474849,
           -14.154761904761903,
           -17.84491440080564,
           -20.05314960629921,
           -17.523715415019762,
           -16.060544904137235,
           -11.46946946946947,
           -15.451396648044692
          ],
          [
           0.6236559139784946,
           -15.457442955450924,
           -37.36498731424429,
           -30.69178082191781,
           -23.20118782479584,
           -25.784005712245627,
           -23.16198347107438,
           -19.71283783783784,
           -17.57757685352622,
           -24.34618263473054,
           -26.904319885755086,
           -21.53501094091904,
           -20.7902711323764,
           -16.622885930190716,
           -17.768110530246453,
           -18.7842278203724,
           -22.164887743835116,
           -24.226623840114204,
           -20.84557235421166,
           -18.15521722985518,
           -14.585339168490153,
           -19.36659793814433
          ],
          [
           0.7547169811320755,
           -14.990961677512654,
           -40.1155407899594,
           -29.01842485549133,
           -20.694485842026825,
           -23.770893371757925,
           -19.737749057619816,
           -17.170303605313094,
           -16.337554269175108,
           -21.4488955447398,
           -24.736141108711305,
           -18.732583454281567,
           -18.5644,
           -16.17560273479669,
           -16.608630952380953,
           -17.51087744742567,
           -20.107566765578635,
           -22.313626532083635,
           -17.173285198555956,
           -17.434766493699037,
           -15.157742402315485,
           -17.955014444903014
          ],
          [
           1.4530477759472815,
           -11.98835403726708,
           -31.94677979174701,
           -26.618973561430792,
           -20.357339630066903,
           -23.679984922728988,
           -21.986225895316803,
           -15.871508379888269,
           -12.716101694915254,
           -19.93722334004024,
           -21.64326375711575,
           -16.90612725844462,
           -14.440951571792692,
           -12.711465451784358,
           -12.32242806464328,
           -14.004329004329003,
           -18.97967956232904,
           -21.293037490436117,
           -18.10491929285165,
           -15.553501180173091,
           -10.573783359497645,
           -16.08173076923077
          ],
          [
           1.1098039215686275,
           -13.499698976520168,
           -33.99292869770183,
           -26.17305389221557,
           -20.382708585247883,
           -24.68274259151656,
           -22.665983606557376,
           -17.68860759493671,
           -14.783363255535608,
           -20.8818407960199,
           -24.444444444444443,
           -18.25183374083129,
           -17.456233421750664,
           -15.041152263374483,
           -13.31807081807082,
           -16.272671941570298,
           -19.78025285972306,
           -21.8816951147734,
           -17.79310344827586,
           -15.27150701647346,
           -10.79098110907983,
           -16.083106267029972
          ],
          [
           0.9157973174366616,
           -14.129861111111111,
           -38.212751449028296,
           -30.579972658920028,
           -23.915712799167533,
           -26.772151898734176,
           -23.875,
           -21.080471050049063,
           -19.636986301369863,
           -24.489861259338312,
           -27.666102841677944,
           -23.035739070090216,
           -27.703242835595777,
           -18.28382949932341,
           -19.362460678084584,
           -19.85470383275261,
           -21.38464223385689,
           -23.37699897924464,
           -20.28065956715905,
           -19.543896467296257,
           -16.12535014005602,
           -18.29807314195832
          ],
          [
           -3.374401913875598,
           -13.62145289443814,
           -35.43480725623583,
           -25.778527262507023,
           -21.8491107286288,
           -26.72797356828194,
           -26.70694087403599,
           -22.756207674943568,
           -21.068753493571823,
           -23.20896391152503,
           -24.63737486095662,
           -21.486790331646997,
           -25.30125786163522,
           -17.19453734671126,
           -19.046082949308754,
           -18.830604178430267,
           -21.49942594718714,
           -24.314794215795327,
           -24.63860830527497,
           -24.903058280438547,
           -17.977953646127755,
           -22.204356181934656
          ],
          [
           -4.812,
           -14.796153846153846,
           -39.40909090909091,
           -29.29865125240848,
           -21.84095427435388,
           -23.959615384615383,
           -20.9375,
           -17.555023923444978,
           -14.33976833976834,
           -19.790836653386453,
           -23.971209213051825,
           -21.820809248554912,
           -22.254273504273502,
           -18.616122840690977,
           -20.383697813121277,
           -18.48742746615087,
           -17.332007952286283,
           -19.494208494208493,
           -16.469111969111967,
           -15.649402390438247,
           -13.2321083172147,
           -19.20971302428256
          ],
          [
           0.0428954423592493,
           -18.031088082901555,
           -45.6,
           -37.02842377260982,
           -28.63002680965148,
           -29.84585492227979,
           -29.445839874411305,
           -28.53012048192771,
           -24.327720207253886,
           -28.41476510067114,
           -32.1011673151751,
           -29.741267787839583,
           -29.71530758226037,
           -24.94954721862872,
           -24.90909090909091,
           -23.55642023346304,
           -23.601333333333333,
           -25.29806451612903,
           -23.57032258064516,
           -22.30614973262032,
           -18.43354838709677,
           -23.21333333333333
          ],
          [
           -3.963302752293578,
           -22.061946902654867,
           -51.965986394557824,
           -41.01111111111111,
           -31.261467889908257,
           -31.06888888888889,
           -29.49148418491484,
           -27.75242718446602,
           -24.523489932885905,
           -28.71100917431193,
           -34.530973451327434,
           -32.373333333333335,
           -31.850490196078432,
           -28.635761589403973,
           -29.536529680365295,
           -26,
           -23.90552995391705,
           -25.812080536912752,
           -23.13199105145414,
           -21.658986175115206,
           -19.52134831460674,
           -24.017766497461928
          ],
          [
           0.4818423383525244,
           -18.465242881072022,
           -48.48488718603661,
           -35.24185463659148,
           -21.59698924731183,
           -22.532640332640334,
           -20.46050321825629,
           -16.90788777130757,
           -13.311922753988243,
           -22.72895986189037,
           -27.550808793031937,
           -20.456867671691796,
           -17.70604522381172,
           -16.05226047283285,
           -19.15922746781116,
           -15.761444771104578,
           -14.49828030954428,
           -16.39807450816241,
           -12.804283914321712,
           -12.326133909287256,
           -7.306560134566863,
           -14.46437111429938
          ],
          [
           -0.0752984389348025,
           -14.4163052905464,
           -37.346053772766695,
           -31.298740772904907,
           -23.92345349354695,
           -26.062634062634064,
           -23.768864717878994,
           -21.22293739028672,
           -18.611135276207047,
           -25.814234556848703,
           -29.1972731146144,
           -21.94158981115503,
           -18.660620525059667,
           -16.722958529286018,
           -16.730905861456485,
           -16.577464788732396,
           -19.91920529801325,
           -21.748600947051223,
           -18.81404421326398,
           -17.48070953436807,
           -13.149606299212598,
           -18.377330716388617
          ],
          [
           -0.5350515463917526,
           -14.626310772163963,
           -34.24539877300614,
           -25.900094696969692,
           -22.000961076405574,
           -27.272893772893774,
           -23.95860927152318,
           -19.194955691888207,
           -17.452067669172934,
           -21.757843137254905,
           -25.00974930362117,
           -20.560894386298763,
           -24.809753483386924,
           -17.600930232558138,
           -17.42987951807229,
           -19.456583969465647,
           -21.0066985645933,
           -24.18677224033535,
           -21.662763466042158,
           -17.993288590604028,
           -15.002379819133743,
           -19.01286863270777
          ],
          [
           3.757037037037037,
           -9.638550017427676,
           -32.17203924316748,
           -22.88908327501749,
           -18.10780141843972,
           -21.867235494880543,
           -19.851767388825543,
           -16.46083613647285,
           -13.602497398543184,
           -19.61326164874552,
           -20.935219911353563,
           -16.946372239747635,
           -19.990465293668954,
           -11.921313718782072,
           -11.587544483985765,
           -14.176449912126538,
           -17.3886925795053,
           -19.974482758620688,
           -16.598686484618042,
           -13.643135863781485,
           -8.537108688005627,
           -14.21056782334385
          ],
          [
           -1.3692722371967656,
           -16.412128712871286,
           -36.1812725090036,
           -25.11830635118306,
           -19.943538268506902,
           -23.69678953626635,
           -22.12396694214876,
           -16.998254799301918,
           -18.23181257706535,
           -22.925641025641024,
           -21.725090036014407,
           -16.5,
           -15.21584699453552,
           -13.545454545454543,
           -14.02030456852792,
           -14.87959442332066,
           -19.34448574969021,
           -20.78484107579462,
           -18.179706601466997,
           -16.038993710691823,
           -12.569796954314722,
           -16.85434173669468
          ],
          [
           0.2807881773399014,
           -11.6568848758465,
           -30.075457875457875,
           -26.61186186186186,
           -20.25131282820705,
           -23.597122302158272,
           -20.76644295302013,
           -13.573626373626372,
           -12.685714285714283,
           -18.739811912225704,
           -20.956934306569345,
           -16.757341576506956,
           -13.464905037159372,
           -11.815654718361376,
           -12.311313591495823,
           -15.901676829268292,
           -17.605223880597016,
           -19.82481751824817,
           -14.82669616519174,
           -12,
           -9.309578544061305,
           -14.083617747440274
          ],
          [
           -1.6341463414634143,
           -18.044568245125348,
           -40.984,
           -33.253369272237194,
           -24.36111111111111,
           -26.19137466307277,
           -25.346863468634687,
           -23.696969696969692,
           -21.02185792349727,
           -25.174157303370787,
           -26.759894459102902,
           -23.3972602739726,
           -21.08484848484849,
           -19.472826086956523,
           -19.574647887323945,
           -17.901408450704224,
           -20.476190476190474,
           -22.767567567567568,
           -20.27945205479452,
           -19.58550724637681,
           -16.65616045845272,
           -20.770967741935483
          ],
          [
           -3.412121212121212,
           -16.331378299120235,
           -42.38484848484848,
           -34.07624633431085,
           -25.184848484848484,
           -26.4633431085044,
           -23.82006920415225,
           -20.336666666666662,
           -15.841642228739005,
           -21.593939393939397,
           -26.78592375366569,
           -22.868035190615835,
           -21.753246753246756,
           -18.571847507331377,
           -20.975757575757576,
           -19.12316715542522,
           -18.26060606060606,
           -22.13782991202346,
           -18.718475073313783,
           -17.675757575757576,
           -14.193548387096774,
           -19.93265993265993
          ],
          [
           -0.3333333333333333,
           -22.582111436950147,
           -53.53333333333333,
           -42.79032258064516,
           -33.38787878787879,
           -32.888563049853374,
           -30.161631419939575,
           -29.65076923076923,
           -26.01466275659824,
           -30.53181818181818,
           -35.32697947214076,
           -31.8900293255132,
           -33.78733766233766,
           -28.734604105571847,
           -29.78333333333333,
           -26.68768328445748,
           -25.01969696969697,
           -27.444281524926687,
           -25.7683284457478,
           -25.174242424242426,
           -19.70234604105572,
           -25.363636363636363
          ],
          [
           0.5190839694656488,
           -16.387530562347187,
           -39.255319148936174,
           -31.721411192214116,
           -25.55793450881612,
           -28.984165651644336,
           -27.7722602739726,
           -26.86448598130841,
           -26.71707317073171,
           -33.171069182389935,
           -33.83495145631068,
           -30.32558139534884,
           -28.843243243243244,
           -26.69549330085262,
           -24.420654911838792,
           -24.04151404151404,
           -25.518238993710693,
           -25.295843520782395,
           -22.10171568627451,
           -20.378140703517587,
           -18.04501216545012,
           -23.766666666666666
          ],
          [
           -3.2333333333333334,
           -18.263267429760667,
           -45.79462365591398,
           -36.42351716961498,
           -27.246774193548383,
           -28.78459937565037,
           -27.2431592039801,
           -25.148986889153758,
           -20.911030176899065,
           -25.00752688172043,
           -29.804370447450573,
           -27.4417273673257,
           -26.861751152073733,
           -23.41935483870968,
           -24.476344086021506,
           -23.53850156087409,
           -22.06236559139785,
           -27.13527575442248,
           -24.93652445369407,
           -23.420967741935485,
           -18.056711758584807,
           -22.94324970131422
          ],
          [
           -1.066480055983205,
           -12.439098250336473,
           -35.863699102829536,
           -27.75,
           -21.71195840554593,
           -25.460328088382997,
           -23.602087114337568,
           -21.804320731200665,
           -18.426698049764628,
           -21.64151599443672,
           -25.4735432016075,
           -23.1003704951162,
           -19.89520624303233,
           -17.860254691689008,
           -19.512820512820515,
           -18.039473684210527,
           -18.312413314840494,
           -20.7182246133154,
           -18.623695725345,
           -17.489251040221912,
           -13.32173031429537,
           -18.41094834232845
          ],
          [
           -0.0272373540856031,
           -11.67504488330341,
           -32.763698630136986,
           -25.792184724689164,
           -20.07956600361664,
           -24.202443280977317,
           -21.752136752136757,
           -20.180722891566266,
           -19.11565836298933,
           -24.77148080438757,
           -24.64471403812825,
           -18.578181818181815,
           -16.905697445972496,
           -16.293913043478263,
           -17.294545454545453,
           -18.08029197080292,
           -22.05903398926655,
           -24.649647887323944,
           -20.427304964539008,
           -17.69429097605893,
           -14.34195933456562,
           -19.696356275303643
          ],
          [
           0.0312261995430312,
           -15.805514705882352,
           -40.10791366906475,
           -29.46499631540162,
           -21.46203492786636,
           -24.858611825192803,
           -22.084366062917063,
           -19.66902342023862,
           -15.675616035307096,
           -21.298212248003043,
           -25.77055800293686,
           -19.906111929307805,
           -19.31840390879479,
           -15.664708042600074,
           -16.970018975332067,
           -17.49355907250644,
           -19.94191343963553,
           -21.700367647058822,
           -17.89738874586245,
           -18.34510250569476,
           -13.397568165070007,
           -17.91311682834247
          ],
          [
           0.1653543307086614,
           -13.776898734177216,
           -34.11542497376705,
           -25.52463312368973,
           -21.49892008639309,
           -25.59142561983471,
           -22.280172413793103,
           -18.788475565280816,
           -18.64957716701903,
           -21.982513661202187,
           -24.91745036572623,
           -19.344901227976507,
           -26.46064139941691,
           -16.573298429319372,
           -14.522975929978118,
           -17.825388323513657,
           -20.488948787061997,
           -22.44328280188186,
           -18.93441762854145,
           -16.56688241639698,
           -13.30670926517572,
           -18.197716346153847
          ],
          [
           -0.1307053941908713,
           -16.999007936507937,
           -38.290650406504064,
           -30.82025819265144,
           -24.26659856996936,
           -26.491609081934847,
           -25.639473684210525,
           -25.76951219512195,
           -20.31113320079523,
           -26.312563840653727,
           -29.541501976284582,
           -26.005964214711728,
           -24.594298245614038,
           -22.3629191321499,
           -20.118488253319715,
           -20.012974051896208,
           -20.84560327198364,
           -23.01592039800995,
           -22.73313492063492,
           -22.13803680981595,
           -17.04278606965174,
           -21.730464326160817
          ],
          [
           0.7321613236814891,
           -17.919980119284293,
           -42.526985743380855,
           -32.24195942602672,
           -23.868609406952967,
           -26.70483711747285,
           -25.057317073170733,
           -23.09385863267671,
           -18.68880079286422,
           -23.849308047155304,
           -30.981737413622906,
           -24.097029702970296,
           -22.980853391684903,
           -18.38274665344571,
           -19.86042944785276,
           -19.16575682382134,
           -20.57719836400818,
           -22.66304347826087,
           -20.153313550939664,
           -19.357690342360755,
           -14.336967294350842,
           -18.83200908059024
          ],
          [
           -1.855555555555556,
           -19.365591397849464,
           -47.26111111111111,
           -37.96774193548387,
           -28.95,
           -29.827956989247312,
           -27.16149068322981,
           -26.457831325301203,
           -23.1989247311828,
           -28.05555555555556,
           -34.946236559139784,
           -30.21505376344086,
           -29.416666666666668,
           -25.446236559139784,
           -26.23333333333333,
           -23.897849462365592,
           -22.41111111111111,
           -27.086021505376344,
           -25.865591397849464,
           -23.3,
           -20.053763440860216,
           -24.358024691358025
          ],
          [
           0.0307467057101024,
           -11.645365168539326,
           -34.78992805755396,
           -26.11056682995101,
           -21.4378612716763,
           -26.47284122562674,
           -23.87300094073377,
           -21.960069444444443,
           -18.21184668989547,
           -21.609985528219973,
           -25.282122905027933,
           -22.55034965034965,
           -18.97138437741686,
           -17.300069783670622,
           -19.26801152737752,
           -17.759272218334498,
           -18.30808080808081,
           -22.62064156206416,
           -18.95667365478686,
           -18.889689978370583,
           -14.251576734407848,
           -18.56661316211878
          ],
          [
           -2.039274924471299,
           -14.325974025974023,
           -34.02125147579693,
           -28.238271604938276,
           -22.011180124223603,
           -24.42755344418052,
           -20.64785553047404,
           -17.632058287795992,
           -17.150753768844222,
           -22.11473272490221,
           -23.143727161997564,
           -17.14248366013072,
           -15.756569847856156,
           -14.495037220843672,
           -14.331151832460732,
           -16.619109947643977,
           -20.353960396039604,
           -20.7665418227216,
           -17.742537313432837,
           -15.582010582010582,
           -11.85997357992074,
           -17.43002915451895
          ],
          [
           0.57265625,
           -12.50718761518614,
           -35.170984455958546,
           -25.20255009107468,
           -20.15114104002993,
           -24.529645697758497,
           -21.07730535615682,
           -18.614825581395348,
           -17.08021978021978,
           -20.08695652173913,
           -24.34861717612809,
           -19.11569638909359,
           -21.4239837398374,
           -14.830651060716898,
           -15.149564558879211,
           -16.370055452865063,
           -17.848793363499247,
           -20.235766423357664,
           -16.305178112376055,
           -16.44809362023405,
           -13.690862196020634,
           -15.730526315789474
          ],
          [
           0.4776176024279211,
           -14.929289303661164,
           -33.48664741970408,
           -25.72982644480229,
           -23.377582739074786,
           -29.349456712232737,
           -26.68035808320169,
           -22.431139122315592,
           -20.074317133735367,
           -24.190940894862823,
           -26.60270602706027,
           -22.423510466988727,
           -28.16349362119725,
           -19.91400881057269,
           -18.949707388441844,
           -19.413117699910156,
           -24.464097436829668,
           -26.587550696526183,
           -22.93423391397085,
           -20.180262199563,
           -15.730355220667384,
           -20.95333739095151
          ],
          [
           -1.652694610778443,
           -16.476394849785407,
           -38.46098265895954,
           -30.78757225433526,
           -25.918367346938776,
           -29.353023909985936,
           -27.012345679012345,
           -21.98715596330275,
           -19.32528409090909,
           -23.74926253687316,
           -26.698591549295774,
           -21.15251798561151,
           -17.849056603773583,
           -17.41068917018284,
           -18.814868804664723,
           -18.56896551724138,
           -24.805232558139537,
           -25.804255319148936,
           -22.285106382978725,
           -18.63280116110305,
           -16.217453505007153,
           -18.95169082125604
          ],
          [
           -4.188405797101449,
           -19.87327188940092,
           -48.25115207373272,
           -38.26923076923077,
           -28.40855106888361,
           -29.64367816091954,
           -27.8978102189781,
           -22.16139240506329,
           -19.04225352112676,
           -24.2953995157385,
           -27.246511627906976,
           -24.685579196217493,
           -24.719072164948454,
           -22.983606557377048,
           -25.565947242206235,
           -25.971764705882357,
           -27.48095238095238,
           -30.37471264367816,
           -27.53146853146853,
           -25.08980582524272,
           -22.089622641509436,
           -27.131720430107528
          ],
          [
           -0.0648364485981308,
           -15.225185592521308,
           -38.379834254143645,
           -32.642700929469655,
           -27.136198716159644,
           -29.536585365853657,
           -28.21964586846543,
           -25.475912408759125,
           -22.11092985318108,
           -25.6725113122172,
           -29.579557713052857,
           -26.954868708971556,
           -26.604727707959302,
           -21.02245670995671,
           -22.01284916201117,
           -20.97740424359328,
           -21.646943901758306,
           -24.39625711960944,
           -21.411283728536382,
           -20.364804469273743,
           -15.338043779440287,
           -20.60156006240249
          ],
          [
           -1.2457142857142858,
           -19.24203821656051,
           -42.91944444444445,
           -34.02810516772439,
           -26.754948162111216,
           -29.30399274047187,
           -28.49482163406214,
           -27.401950162513543,
           -22.80128205128205,
           -27.12570888468809,
           -30.73049001814882,
           -27.493589743589745,
           -26.966565349544076,
           -22.98263254113345,
           -23.278564683663834,
           -21.589696412143518,
           -22.07466918714556,
           -25.309872029250457,
           -23.888990825688072,
           -22.22117202268431,
           -16.72099447513812,
           -22.38100208768267
          ],
          [
           0.2163934426229508,
           -14.49272030651341,
           -36.97498104624716,
           -28.12033511043412,
           -22.0155159038014,
           -25.419955323901718,
           -23.61372299872935,
           -19.738478027867096,
           -16.937547600913938,
           -22.831118060985144,
           -26.15487714072971,
           -22.58747135217724,
           -22.390611902766132,
           -16.155068078668684,
           -16.672941176470587,
           -16.958171959721145,
           -21.611627906976743,
           -22.656367746797287,
           -20.363290175171365,
           -18.935358255451717,
           -14.126640926640926,
           -20.247404844290656
          ],
          [
           1.5044776119402985,
           -14.201332698714898,
           -36.53217223028544,
           -28.60342368045649,
           -19.571499013806704,
           -22.14591254752852,
           -20.295409181636728,
           -18.758745476477685,
           -16.14272030651341,
           -22.35014836795252,
           -23.075865339023235,
           -18.24832214765101,
           -16.234020073956682,
           -15.113064133016628,
           -15.223587223587224,
           -14.937049495434888,
           -17.207639569049952,
           -19.184498335710888,
           -15.685016754427956,
           -15.362026561731431,
           -10.963443963443964,
           -17.537915984724496
          ],
          [
           -0.4964028776978417,
           -14.882747068676716,
           -33.25,
           -25.00674536256324,
           -19.43127147766323,
           -22.564059900166388,
           -20.464912280701757,
           -16.81578947368421,
           -15.396933560477002,
           -21.77368421052632,
           -23.28855721393035,
           -16.90394511149228,
           -15.584415584415584,
           -17.88685524126456,
           -16.67986230636833,
           -18.57679180887372,
           -24.649241146711635,
           -24.540495867768595,
           -22.11111111111111,
           -20.244897959183675,
           -17.86846543001686,
           -21.900952380952383
          ]
         ]
        }
       ],
       "layout": {
        "height": 1000,
        "template": {
         "data": {
          "bar": [
           {
            "error_x": {
             "color": "#2a3f5f"
            },
            "error_y": {
             "color": "#2a3f5f"
            },
            "marker": {
             "line": {
              "color": "#E5ECF6",
              "width": 0.5
             },
             "pattern": {
              "fillmode": "overlay",
              "size": 10,
              "solidity": 0.2
             }
            },
            "type": "bar"
           }
          ],
          "barpolar": [
           {
            "marker": {
             "line": {
              "color": "#E5ECF6",
              "width": 0.5
             },
             "pattern": {
              "fillmode": "overlay",
              "size": 10,
              "solidity": 0.2
             }
            },
            "type": "barpolar"
           }
          ],
          "carpet": [
           {
            "aaxis": {
             "endlinecolor": "#2a3f5f",
             "gridcolor": "white",
             "linecolor": "white",
             "minorgridcolor": "white",
             "startlinecolor": "#2a3f5f"
            },
            "baxis": {
             "endlinecolor": "#2a3f5f",
             "gridcolor": "white",
             "linecolor": "white",
             "minorgridcolor": "white",
             "startlinecolor": "#2a3f5f"
            },
            "type": "carpet"
           }
          ],
          "choropleth": [
           {
            "colorbar": {
             "outlinewidth": 0,
             "ticks": ""
            },
            "type": "choropleth"
           }
          ],
          "contour": [
           {
            "colorbar": {
             "outlinewidth": 0,
             "ticks": ""
            },
            "colorscale": [
             [
              0,
              "#0d0887"
             ],
             [
              0.1111111111111111,
              "#46039f"
             ],
             [
              0.2222222222222222,
              "#7201a8"
             ],
             [
              0.3333333333333333,
              "#9c179e"
             ],
             [
              0.4444444444444444,
              "#bd3786"
             ],
             [
              0.5555555555555556,
              "#d8576b"
             ],
             [
              0.6666666666666666,
              "#ed7953"
             ],
             [
              0.7777777777777778,
              "#fb9f3a"
             ],
             [
              0.8888888888888888,
              "#fdca26"
             ],
             [
              1,
              "#f0f921"
             ]
            ],
            "type": "contour"
           }
          ],
          "contourcarpet": [
           {
            "colorbar": {
             "outlinewidth": 0,
             "ticks": ""
            },
            "type": "contourcarpet"
           }
          ],
          "heatmap": [
           {
            "colorbar": {
             "outlinewidth": 0,
             "ticks": ""
            },
            "colorscale": [
             [
              0,
              "#0d0887"
             ],
             [
              0.1111111111111111,
              "#46039f"
             ],
             [
              0.2222222222222222,
              "#7201a8"
             ],
             [
              0.3333333333333333,
              "#9c179e"
             ],
             [
              0.4444444444444444,
              "#bd3786"
             ],
             [
              0.5555555555555556,
              "#d8576b"
             ],
             [
              0.6666666666666666,
              "#ed7953"
             ],
             [
              0.7777777777777778,
              "#fb9f3a"
             ],
             [
              0.8888888888888888,
              "#fdca26"
             ],
             [
              1,
              "#f0f921"
             ]
            ],
            "type": "heatmap"
           }
          ],
          "heatmapgl": [
           {
            "colorbar": {
             "outlinewidth": 0,
             "ticks": ""
            },
            "colorscale": [
             [
              0,
              "#0d0887"
             ],
             [
              0.1111111111111111,
              "#46039f"
             ],
             [
              0.2222222222222222,
              "#7201a8"
             ],
             [
              0.3333333333333333,
              "#9c179e"
             ],
             [
              0.4444444444444444,
              "#bd3786"
             ],
             [
              0.5555555555555556,
              "#d8576b"
             ],
             [
              0.6666666666666666,
              "#ed7953"
             ],
             [
              0.7777777777777778,
              "#fb9f3a"
             ],
             [
              0.8888888888888888,
              "#fdca26"
             ],
             [
              1,
              "#f0f921"
             ]
            ],
            "type": "heatmapgl"
           }
          ],
          "histogram": [
           {
            "marker": {
             "pattern": {
              "fillmode": "overlay",
              "size": 10,
              "solidity": 0.2
             }
            },
            "type": "histogram"
           }
          ],
          "histogram2d": [
           {
            "colorbar": {
             "outlinewidth": 0,
             "ticks": ""
            },
            "colorscale": [
             [
              0,
              "#0d0887"
             ],
             [
              0.1111111111111111,
              "#46039f"
             ],
             [
              0.2222222222222222,
              "#7201a8"
             ],
             [
              0.3333333333333333,
              "#9c179e"
             ],
             [
              0.4444444444444444,
              "#bd3786"
             ],
             [
              0.5555555555555556,
              "#d8576b"
             ],
             [
              0.6666666666666666,
              "#ed7953"
             ],
             [
              0.7777777777777778,
              "#fb9f3a"
             ],
             [
              0.8888888888888888,
              "#fdca26"
             ],
             [
              1,
              "#f0f921"
             ]
            ],
            "type": "histogram2d"
           }
          ],
          "histogram2dcontour": [
           {
            "colorbar": {
             "outlinewidth": 0,
             "ticks": ""
            },
            "colorscale": [
             [
              0,
              "#0d0887"
             ],
             [
              0.1111111111111111,
              "#46039f"
             ],
             [
              0.2222222222222222,
              "#7201a8"
             ],
             [
              0.3333333333333333,
              "#9c179e"
             ],
             [
              0.4444444444444444,
              "#bd3786"
             ],
             [
              0.5555555555555556,
              "#d8576b"
             ],
             [
              0.6666666666666666,
              "#ed7953"
             ],
             [
              0.7777777777777778,
              "#fb9f3a"
             ],
             [
              0.8888888888888888,
              "#fdca26"
             ],
             [
              1,
              "#f0f921"
             ]
            ],
            "type": "histogram2dcontour"
           }
          ],
          "mesh3d": [
           {
            "colorbar": {
             "outlinewidth": 0,
             "ticks": ""
            },
            "type": "mesh3d"
           }
          ],
          "parcoords": [
           {
            "line": {
             "colorbar": {
              "outlinewidth": 0,
              "ticks": ""
             }
            },
            "type": "parcoords"
           }
          ],
          "pie": [
           {
            "automargin": true,
            "type": "pie"
           }
          ],
          "scatter": [
           {
            "marker": {
             "colorbar": {
              "outlinewidth": 0,
              "ticks": ""
             }
            },
            "type": "scatter"
           }
          ],
          "scatter3d": [
           {
            "line": {
             "colorbar": {
              "outlinewidth": 0,
              "ticks": ""
             }
            },
            "marker": {
             "colorbar": {
              "outlinewidth": 0,
              "ticks": ""
             }
            },
            "type": "scatter3d"
           }
          ],
          "scattercarpet": [
           {
            "marker": {
             "colorbar": {
              "outlinewidth": 0,
              "ticks": ""
             }
            },
            "type": "scattercarpet"
           }
          ],
          "scattergeo": [
           {
            "marker": {
             "colorbar": {
              "outlinewidth": 0,
              "ticks": ""
             }
            },
            "type": "scattergeo"
           }
          ],
          "scattergl": [
           {
            "marker": {
             "colorbar": {
              "outlinewidth": 0,
              "ticks": ""
             }
            },
            "type": "scattergl"
           }
          ],
          "scattermapbox": [
           {
            "marker": {
             "colorbar": {
              "outlinewidth": 0,
              "ticks": ""
             }
            },
            "type": "scattermapbox"
           }
          ],
          "scatterpolar": [
           {
            "marker": {
             "colorbar": {
              "outlinewidth": 0,
              "ticks": ""
             }
            },
            "type": "scatterpolar"
           }
          ],
          "scatterpolargl": [
           {
            "marker": {
             "colorbar": {
              "outlinewidth": 0,
              "ticks": ""
             }
            },
            "type": "scatterpolargl"
           }
          ],
          "scatterternary": [
           {
            "marker": {
             "colorbar": {
              "outlinewidth": 0,
              "ticks": ""
             }
            },
            "type": "scatterternary"
           }
          ],
          "surface": [
           {
            "colorbar": {
             "outlinewidth": 0,
             "ticks": ""
            },
            "colorscale": [
             [
              0,
              "#0d0887"
             ],
             [
              0.1111111111111111,
              "#46039f"
             ],
             [
              0.2222222222222222,
              "#7201a8"
             ],
             [
              0.3333333333333333,
              "#9c179e"
             ],
             [
              0.4444444444444444,
              "#bd3786"
             ],
             [
              0.5555555555555556,
              "#d8576b"
             ],
             [
              0.6666666666666666,
              "#ed7953"
             ],
             [
              0.7777777777777778,
              "#fb9f3a"
             ],
             [
              0.8888888888888888,
              "#fdca26"
             ],
             [
              1,
              "#f0f921"
             ]
            ],
            "type": "surface"
           }
          ],
          "table": [
           {
            "cells": {
             "fill": {
              "color": "#EBF0F8"
             },
             "line": {
              "color": "white"
             }
            },
            "header": {
             "fill": {
              "color": "#C8D4E3"
             },
             "line": {
              "color": "white"
             }
            },
            "type": "table"
           }
          ]
         },
         "layout": {
          "annotationdefaults": {
           "arrowcolor": "#2a3f5f",
           "arrowhead": 0,
           "arrowwidth": 1
          },
          "autotypenumbers": "strict",
          "coloraxis": {
           "colorbar": {
            "outlinewidth": 0,
            "ticks": ""
           }
          },
          "colorscale": {
           "diverging": [
            [
             0,
             "#8e0152"
            ],
            [
             0.1,
             "#c51b7d"
            ],
            [
             0.2,
             "#de77ae"
            ],
            [
             0.3,
             "#f1b6da"
            ],
            [
             0.4,
             "#fde0ef"
            ],
            [
             0.5,
             "#f7f7f7"
            ],
            [
             0.6,
             "#e6f5d0"
            ],
            [
             0.7,
             "#b8e186"
            ],
            [
             0.8,
             "#7fbc41"
            ],
            [
             0.9,
             "#4d9221"
            ],
            [
             1,
             "#276419"
            ]
           ],
           "sequential": [
            [
             0,
             "#0d0887"
            ],
            [
             0.1111111111111111,
             "#46039f"
            ],
            [
             0.2222222222222222,
             "#7201a8"
            ],
            [
             0.3333333333333333,
             "#9c179e"
            ],
            [
             0.4444444444444444,
             "#bd3786"
            ],
            [
             0.5555555555555556,
             "#d8576b"
            ],
            [
             0.6666666666666666,
             "#ed7953"
            ],
            [
             0.7777777777777778,
             "#fb9f3a"
            ],
            [
             0.8888888888888888,
             "#fdca26"
            ],
            [
             1,
             "#f0f921"
            ]
           ],
           "sequentialminus": [
            [
             0,
             "#0d0887"
            ],
            [
             0.1111111111111111,
             "#46039f"
            ],
            [
             0.2222222222222222,
             "#7201a8"
            ],
            [
             0.3333333333333333,
             "#9c179e"
            ],
            [
             0.4444444444444444,
             "#bd3786"
            ],
            [
             0.5555555555555556,
             "#d8576b"
            ],
            [
             0.6666666666666666,
             "#ed7953"
            ],
            [
             0.7777777777777778,
             "#fb9f3a"
            ],
            [
             0.8888888888888888,
             "#fdca26"
            ],
            [
             1,
             "#f0f921"
            ]
           ]
          },
          "colorway": [
           "#636efa",
           "#EF553B",
           "#00cc96",
           "#ab63fa",
           "#FFA15A",
           "#19d3f3",
           "#FF6692",
           "#B6E880",
           "#FF97FF",
           "#FECB52"
          ],
          "font": {
           "color": "#2a3f5f"
          },
          "geo": {
           "bgcolor": "white",
           "lakecolor": "white",
           "landcolor": "#E5ECF6",
           "showlakes": true,
           "showland": true,
           "subunitcolor": "white"
          },
          "hoverlabel": {
           "align": "left"
          },
          "hovermode": "closest",
          "mapbox": {
           "style": "light"
          },
          "paper_bgcolor": "white",
          "plot_bgcolor": "#E5ECF6",
          "polar": {
           "angularaxis": {
            "gridcolor": "white",
            "linecolor": "white",
            "ticks": ""
           },
           "bgcolor": "#E5ECF6",
           "radialaxis": {
            "gridcolor": "white",
            "linecolor": "white",
            "ticks": ""
           }
          },
          "scene": {
           "xaxis": {
            "backgroundcolor": "#E5ECF6",
            "gridcolor": "white",
            "gridwidth": 2,
            "linecolor": "white",
            "showbackground": true,
            "ticks": "",
            "zerolinecolor": "white"
           },
           "yaxis": {
            "backgroundcolor": "#E5ECF6",
            "gridcolor": "white",
            "gridwidth": 2,
            "linecolor": "white",
            "showbackground": true,
            "ticks": "",
            "zerolinecolor": "white"
           },
           "zaxis": {
            "backgroundcolor": "#E5ECF6",
            "gridcolor": "white",
            "gridwidth": 2,
            "linecolor": "white",
            "showbackground": true,
            "ticks": "",
            "zerolinecolor": "white"
           }
          },
          "shapedefaults": {
           "line": {
            "color": "#2a3f5f"
           }
          },
          "ternary": {
           "aaxis": {
            "gridcolor": "white",
            "linecolor": "white",
            "ticks": ""
           },
           "baxis": {
            "gridcolor": "white",
            "linecolor": "white",
            "ticks": ""
           },
           "bgcolor": "#E5ECF6",
           "caxis": {
            "gridcolor": "white",
            "linecolor": "white",
            "ticks": ""
           }
          },
          "title": {
           "x": 0.05
          },
          "xaxis": {
           "automargin": true,
           "gridcolor": "white",
           "linecolor": "white",
           "ticks": "",
           "title": {
            "standoff": 15
           },
           "zerolinecolor": "white",
           "zerolinewidth": 2
          },
          "yaxis": {
           "automargin": true,
           "gridcolor": "white",
           "linecolor": "white",
           "ticks": "",
           "title": {
            "standoff": 15
           },
           "zerolinecolor": "white",
           "zerolinewidth": 2
          }
         }
        },
        "title": {
         "text": "Google Mobility - Percent Change in Workplace Mobility (By State)"
        },
        "width": 600,
        "xaxis": {
         "title": {
          "text": "Date"
         }
        },
        "yaxis": {
         "title": {
          "text": "State"
         }
        }
       }
      },
      "text/html": [
       "<div>                            <div id=\"1216da2a-241a-4597-84f9-5bcf338c1041\" class=\"plotly-graph-div\" style=\"height:1000px; width:600px;\"></div>            <script type=\"text/javascript\">                require([\"plotly\"], function(Plotly) {                    window.PLOTLYENV=window.PLOTLYENV || {};                                    if (document.getElementById(\"1216da2a-241a-4597-84f9-5bcf338c1041\")) {                    Plotly.newPlot(                        \"1216da2a-241a-4597-84f9-5bcf338c1041\",                        [{\"colorscale\":[[0.0,\"rgb(103,0,31)\"],[0.1,\"rgb(178,24,43)\"],[0.2,\"rgb(214,96,77)\"],[0.3,\"rgb(244,165,130)\"],[0.4,\"rgb(253,219,199)\"],[0.5,\"rgb(247,247,247)\"],[0.6,\"rgb(209,229,240)\"],[0.7,\"rgb(146,197,222)\"],[0.8,\"rgb(67,147,195)\"],[0.9,\"rgb(33,102,172)\"],[1.0,\"rgb(5,48,97)\"]],\"type\":\"heatmap\",\"x\":[\"Feb 2020\",\"Mar 2020\",\"Apr 2020\",\"May 2020\",\"Jun 2020\",\"Jul 2020\",\"Aug 2020\",\"Sep 2020\",\"Oct 2020\",\"Nov 2020\",\"Dec 2020\",\"Jan 2021\",\"Feb 2021\",\"Mar 2021\",\"Apr 2021\",\"May 2021\",\"Jun 2021\",\"Jul 2021\",\"Aug 2021\",\"Sep 2021\",\"Oct 2021\",\"Nov 2021\"],\"y\":[\"Alabama\",\"Alaska\",\"Arizona\",\"Arkansas\",\"California\",\"Colorado\",\"Connecticut\",\"Delaware\",\"Florida\",\"Georgia\",\"Hawaii\",\"Idaho\",\"Illinois\",\"Indiana\",\"Iowa\",\"Kansas\",\"Kentucky\",\"Louisiana\",\"Maine\",\"Maryland\",\"Massachusetts\",\"Michigan\",\"Minnesota\",\"Mississippi\",\"Missouri\",\"Montana\",\"Nebraska\",\"Nevada\",\"New Hampshire\",\"New Jersey\",\"New Mexico\",\"New York\",\"North Carolina\",\"North Dakota\",\"Ohio\",\"Oklahoma\",\"Oregon\",\"Pennsylvania\",\"Rhode Island\",\"South Carolina\",\"South Dakota\",\"Tennessee\",\"Texas\",\"Utah\",\"Vermont\",\"Virginia\",\"Washington\",\"West Virginia\",\"Wisconsin\",\"Wyoming\"],\"z\":[[-0.0439442658092175,-11.712020460358056,-33.46923879040667,-24.902001026167262,-20.877946568884237,-25.302325581395348,-22.094283593170008,-21.306122448979597,-18.30941475826972,-21.733862433862438,-24.78582278481013,-20.699691991786448,-18.556306306306308,-16.48938321536906,-15.939425587467364,-16.46205128205128,-16.964509394572026,-19.710166919575112,-17.183663115169963,-15.9828125,-12.39294839039346,-17.437174290677476],[-0.6083916083916084,-15.17684887459807,-33.10126582278481,-23.91167192429022,-18.67628205128205,-22.67391304347826,-21.221153846153847,-17.021367521367523,-15.542857142857144,-25.07467532467533,-26.64741641337386,-23.371875,-20.20890410958904,-18.85185185185185,-15.336569579288026,-18.727564102564106,-20.187898089171973,-20.33228840125392,-17.676567656765677,-17.76923076923077,-15.917491749174918,-21.741818181818186],[-1.5404255319148936,-15.940451745379876,-37.45338983050848,-30.01440329218107,-26.52330508474576,-31.924180327868854,-28.81882352941177,-27.908045977011493,-25.13552361396304,-27.076433121019107,-30.014344262295083,-27.33333333333333,-23.11590909090909,-22.325819672131143,-19.5,-20.020576131687243,-24.972457627118644,-25.634496919917865,-21.57700205338809,-20.572033898305083,-19.46296296296296,-22.992941176470588],[0.0856507230255839,-11.558441558441558,-29.094427244582043,-23.367304707708225,-20.603366649132035,-25.21904761904762,-22.51335055986219,-18.49820273184759,-16.104615384615386,-21.81342494714588,-24.496236828901157,-19.24078879086663,-27.11791642816257,-15.90391459074733,-13.643574828133262,-15.757845188284518,-19.04029304029304,-21.63719512195122,-17.851020408163265,-15.083333333333334,-10.906855049712192,-17.065735892961023],[-1.9655172413793105,-19.52492836676218,-42.781582054309325,-34.357798165137616,-27.84597156398104,-31.166284403669724,-30.304202801867916,-29.143603133159267,-24.98390804597701,-28.87914691943128,-33.368059530623924,-31.31597023468804,-27.645345155161493,-26.17438536306461,-25.685764914353214,-24.27413793103448,-25.37900355871886,-27.20964962665135,-25.07749712973593,-23.40780141843972,-20.52580275229358,-26.11892247043364],[0.215962441314554,-20.015272727272727,-43.54597701149425,-34.30503597122302,-27.203552923760174,-28.55444839857651,-27.02457264957265,-23.711132437619963,-22.064586357039182,-28.543833580980685,-30.63655610444601,-24.175953079178885,-22.130818619582666,-22.916787264833573,-22.202844311377245,-24.260393873085334,-25.448784082535003,-25.04447632711621,-22.242028985507247,-20.98138495904691,-19.240822320117477,-25.49172185430464],[-0.9333333333333332,-19.27598566308244,-47.077777777777776,-37.913978494623656,-29.57777777777778,-31.17562724014337,-29.28301886792453,-26.11026615969582,-21.00716845878136,-25.492592592592597,-31.27956989247312,-26.6415770609319,-26.694444444444443,-21.25089605734767,-23.02962962962963,-19.49820788530466,-19.525925925925925,-24.017921146953405,-22.688172043010752,-19.38888888888889,-13.57706093189964,-18.012345679012345],[1.1,-16.943548387096776,-43.79166666666666,-35.604838709677416,-26.666666666666668,-27.95967741935484,-24.887096774193548,-24.65833333333333,-21.387096774193548,-24.941666666666663,-28.41935483870968,-25.951612903225808,-26.223214285714285,-22.12903225806452,-23.641666666666666,-21.346774193548388,-20.55,-22.137096774193548,-20.725806451612904,-20.23333333333333,-15.806451612903226,-20.935185185185187],[-0.4943705220061412,-14.415475603745689,-37.90868038133467,-28.39578224619912,-23.932997481108316,-29.16990291262136,-27.84248642124321,-26.12406231967686,-21.484848484848484,-25.265553869499243,-25.85986328125,-22.431295843520783,-19.31161780673181,-19.3307240704501,-17.95226003047232,-17.599802371541504,-21.005032712632108,-24.34943875061005,-22.89442815249267,-20.358767054067712,-16.254554406696208,-21.209994385176863],[-1.0709969788519638,-13.086790653314258,-35.8757778841551,-26.63569216106743,-22.375606207565472,-27.219432821943283,-24.265162721893493,-20.83642765685019,-18.0687692672516,-20.927568366592755,-24.051209772140005,-21.386379928315414,-17.606656184486372,-16.241711732894426,-18.53223460979157,-18.130320420851262,-20.139467312348668,-22.12720848056537,-18.66792363893472,-17.547526673132882,-14.27946449916328,-18.587916553779465],[-2.7066666666666666,-18.90967741935484,-47.48,-39.75483870967742,-31.973333333333333,-34.096774193548384,-34.212765957446805,-36.94366197183098,-32.825806451612905,-33.2,-32.329032258064515,-31.561290322580646,-29.564285714285717,-28.748387096774195,-25.886666666666667,-26.30967741935484,-28.5,-28.716129032258063,-26.954838709677414,-26.91333333333333,-26.070967741935483,-27.83703703703704],[0.2336842105263158,-13.372319688109162,-36.2341650671785,-26.723800195886387,-21.03531786074672,-24.631681243926145,-23.00633914421553,-18.53835800807537,-16.66369930761622,-21.1799591002045,-22.6,-16.49,-14.020674646354731,-13.943743937924346,-13.039235412474849,-14.154761904761903,-17.84491440080564,-20.05314960629921,-17.523715415019762,-16.060544904137235,-11.46946946946947,-15.451396648044692],[0.6236559139784946,-15.457442955450924,-37.36498731424429,-30.69178082191781,-23.20118782479584,-25.784005712245627,-23.16198347107438,-19.71283783783784,-17.57757685352622,-24.34618263473054,-26.904319885755086,-21.53501094091904,-20.7902711323764,-16.622885930190716,-17.768110530246453,-18.7842278203724,-22.164887743835116,-24.226623840114204,-20.84557235421166,-18.15521722985518,-14.585339168490153,-19.36659793814433],[0.7547169811320755,-14.990961677512654,-40.1155407899594,-29.01842485549133,-20.694485842026825,-23.770893371757925,-19.737749057619816,-17.170303605313094,-16.337554269175108,-21.4488955447398,-24.736141108711305,-18.732583454281567,-18.5644,-16.17560273479669,-16.608630952380953,-17.51087744742567,-20.107566765578635,-22.313626532083635,-17.173285198555956,-17.434766493699037,-15.157742402315485,-17.955014444903014],[1.4530477759472815,-11.98835403726708,-31.94677979174701,-26.618973561430792,-20.357339630066903,-23.679984922728988,-21.986225895316803,-15.871508379888269,-12.716101694915254,-19.93722334004024,-21.64326375711575,-16.90612725844462,-14.440951571792692,-12.711465451784358,-12.32242806464328,-14.004329004329003,-18.97967956232904,-21.293037490436117,-18.10491929285165,-15.553501180173091,-10.573783359497645,-16.08173076923077],[1.1098039215686275,-13.499698976520168,-33.99292869770183,-26.17305389221557,-20.382708585247883,-24.68274259151656,-22.665983606557376,-17.68860759493671,-14.783363255535608,-20.8818407960199,-24.444444444444443,-18.25183374083129,-17.456233421750664,-15.041152263374483,-13.31807081807082,-16.272671941570298,-19.78025285972306,-21.8816951147734,-17.79310344827586,-15.27150701647346,-10.79098110907983,-16.083106267029972],[0.9157973174366616,-14.129861111111111,-38.212751449028296,-30.579972658920028,-23.915712799167533,-26.772151898734176,-23.875,-21.080471050049063,-19.636986301369863,-24.489861259338312,-27.666102841677944,-23.035739070090216,-27.703242835595777,-18.28382949932341,-19.362460678084584,-19.85470383275261,-21.38464223385689,-23.37699897924464,-20.28065956715905,-19.543896467296257,-16.12535014005602,-18.29807314195832],[-3.374401913875598,-13.62145289443814,-35.43480725623583,-25.778527262507023,-21.8491107286288,-26.72797356828194,-26.70694087403599,-22.756207674943568,-21.068753493571823,-23.20896391152503,-24.63737486095662,-21.486790331646997,-25.30125786163522,-17.19453734671126,-19.046082949308754,-18.830604178430267,-21.49942594718714,-24.314794215795327,-24.63860830527497,-24.903058280438547,-17.977953646127755,-22.204356181934656],[-4.812,-14.796153846153846,-39.40909090909091,-29.29865125240848,-21.84095427435388,-23.959615384615383,-20.9375,-17.555023923444978,-14.33976833976834,-19.790836653386453,-23.971209213051825,-21.820809248554912,-22.254273504273502,-18.616122840690977,-20.383697813121277,-18.48742746615087,-17.332007952286283,-19.494208494208493,-16.469111969111967,-15.649402390438247,-13.2321083172147,-19.20971302428256],[0.0428954423592493,-18.031088082901555,-45.6,-37.02842377260982,-28.63002680965148,-29.84585492227979,-29.445839874411305,-28.53012048192771,-24.327720207253886,-28.41476510067114,-32.1011673151751,-29.741267787839583,-29.71530758226037,-24.94954721862872,-24.90909090909091,-23.55642023346304,-23.601333333333333,-25.29806451612903,-23.57032258064516,-22.30614973262032,-18.43354838709677,-23.21333333333333],[-3.963302752293578,-22.061946902654867,-51.965986394557824,-41.01111111111111,-31.261467889908257,-31.06888888888889,-29.49148418491484,-27.75242718446602,-24.523489932885905,-28.71100917431193,-34.530973451327434,-32.373333333333335,-31.850490196078432,-28.635761589403973,-29.536529680365295,-26.0,-23.90552995391705,-25.812080536912752,-23.13199105145414,-21.658986175115206,-19.52134831460674,-24.017766497461928],[0.4818423383525244,-18.465242881072022,-48.48488718603661,-35.24185463659148,-21.59698924731183,-22.532640332640334,-20.46050321825629,-16.90788777130757,-13.311922753988243,-22.72895986189037,-27.550808793031937,-20.456867671691796,-17.70604522381172,-16.05226047283285,-19.15922746781116,-15.761444771104578,-14.49828030954428,-16.39807450816241,-12.804283914321712,-12.326133909287256,-7.306560134566863,-14.46437111429938],[-0.0752984389348025,-14.4163052905464,-37.346053772766695,-31.298740772904907,-23.92345349354695,-26.062634062634064,-23.768864717878994,-21.22293739028672,-18.611135276207047,-25.814234556848703,-29.1972731146144,-21.94158981115503,-18.660620525059667,-16.722958529286018,-16.730905861456485,-16.577464788732396,-19.91920529801325,-21.748600947051223,-18.81404421326398,-17.48070953436807,-13.149606299212598,-18.377330716388617],[-0.5350515463917526,-14.626310772163963,-34.24539877300614,-25.900094696969692,-22.000961076405574,-27.272893772893774,-23.95860927152318,-19.194955691888207,-17.452067669172934,-21.757843137254905,-25.00974930362117,-20.560894386298763,-24.809753483386924,-17.600930232558138,-17.42987951807229,-19.456583969465647,-21.0066985645933,-24.18677224033535,-21.662763466042158,-17.993288590604028,-15.002379819133743,-19.01286863270777],[3.757037037037037,-9.638550017427676,-32.17203924316748,-22.88908327501749,-18.10780141843972,-21.867235494880543,-19.851767388825543,-16.46083613647285,-13.602497398543184,-19.61326164874552,-20.935219911353563,-16.946372239747635,-19.990465293668954,-11.921313718782072,-11.587544483985765,-14.176449912126538,-17.3886925795053,-19.974482758620688,-16.598686484618042,-13.643135863781485,-8.537108688005627,-14.21056782334385],[-1.3692722371967656,-16.412128712871286,-36.1812725090036,-25.11830635118306,-19.943538268506902,-23.69678953626635,-22.12396694214876,-16.998254799301918,-18.23181257706535,-22.925641025641024,-21.725090036014407,-16.5,-15.21584699453552,-13.545454545454543,-14.02030456852792,-14.87959442332066,-19.34448574969021,-20.78484107579462,-18.179706601466997,-16.038993710691823,-12.569796954314722,-16.85434173669468],[0.2807881773399014,-11.6568848758465,-30.075457875457875,-26.61186186186186,-20.25131282820705,-23.597122302158272,-20.76644295302013,-13.573626373626372,-12.685714285714283,-18.739811912225704,-20.956934306569345,-16.757341576506956,-13.464905037159372,-11.815654718361376,-12.311313591495823,-15.901676829268292,-17.605223880597016,-19.82481751824817,-14.82669616519174,-12.0,-9.309578544061305,-14.083617747440274],[-1.6341463414634143,-18.044568245125348,-40.984,-33.253369272237194,-24.36111111111111,-26.19137466307277,-25.346863468634687,-23.696969696969692,-21.02185792349727,-25.174157303370787,-26.759894459102902,-23.3972602739726,-21.08484848484849,-19.472826086956523,-19.574647887323945,-17.901408450704224,-20.476190476190474,-22.767567567567568,-20.27945205479452,-19.58550724637681,-16.65616045845272,-20.770967741935483],[-3.412121212121212,-16.331378299120235,-42.38484848484848,-34.07624633431085,-25.184848484848484,-26.4633431085044,-23.82006920415225,-20.336666666666662,-15.841642228739005,-21.593939393939397,-26.78592375366569,-22.868035190615835,-21.753246753246756,-18.571847507331377,-20.975757575757576,-19.12316715542522,-18.26060606060606,-22.13782991202346,-18.718475073313783,-17.675757575757576,-14.193548387096774,-19.93265993265993],[-0.3333333333333333,-22.582111436950147,-53.53333333333333,-42.79032258064516,-33.38787878787879,-32.888563049853374,-30.161631419939575,-29.65076923076923,-26.01466275659824,-30.53181818181818,-35.32697947214076,-31.8900293255132,-33.78733766233766,-28.734604105571847,-29.78333333333333,-26.68768328445748,-25.01969696969697,-27.444281524926687,-25.7683284457478,-25.174242424242426,-19.70234604105572,-25.363636363636363],[0.5190839694656488,-16.387530562347187,-39.255319148936174,-31.721411192214116,-25.55793450881612,-28.984165651644336,-27.7722602739726,-26.86448598130841,-26.71707317073171,-33.171069182389935,-33.83495145631068,-30.32558139534884,-28.843243243243244,-26.69549330085262,-24.420654911838792,-24.04151404151404,-25.518238993710693,-25.295843520782395,-22.10171568627451,-20.378140703517587,-18.04501216545012,-23.766666666666666],[-3.2333333333333334,-18.263267429760667,-45.79462365591398,-36.42351716961498,-27.246774193548383,-28.78459937565037,-27.2431592039801,-25.148986889153758,-20.911030176899065,-25.00752688172043,-29.804370447450573,-27.4417273673257,-26.861751152073733,-23.41935483870968,-24.476344086021506,-23.53850156087409,-22.06236559139785,-27.13527575442248,-24.93652445369407,-23.420967741935485,-18.056711758584807,-22.94324970131422],[-1.066480055983205,-12.439098250336473,-35.863699102829536,-27.75,-21.71195840554593,-25.460328088382997,-23.602087114337568,-21.804320731200665,-18.426698049764628,-21.64151599443672,-25.4735432016075,-23.1003704951162,-19.89520624303233,-17.860254691689008,-19.512820512820515,-18.039473684210527,-18.312413314840494,-20.7182246133154,-18.623695725345,-17.489251040221912,-13.32173031429537,-18.41094834232845],[-0.0272373540856031,-11.67504488330341,-32.763698630136986,-25.792184724689164,-20.07956600361664,-24.202443280977317,-21.752136752136757,-20.180722891566266,-19.11565836298933,-24.77148080438757,-24.64471403812825,-18.578181818181815,-16.905697445972496,-16.293913043478263,-17.294545454545453,-18.08029197080292,-22.05903398926655,-24.649647887323944,-20.427304964539008,-17.69429097605893,-14.34195933456562,-19.696356275303643],[0.0312261995430312,-15.805514705882352,-40.10791366906475,-29.46499631540162,-21.46203492786636,-24.858611825192803,-22.084366062917063,-19.66902342023862,-15.675616035307096,-21.298212248003043,-25.77055800293686,-19.906111929307805,-19.31840390879479,-15.664708042600074,-16.970018975332067,-17.49355907250644,-19.94191343963553,-21.700367647058822,-17.89738874586245,-18.34510250569476,-13.397568165070007,-17.91311682834247],[0.1653543307086614,-13.776898734177216,-34.11542497376705,-25.52463312368973,-21.49892008639309,-25.59142561983471,-22.280172413793103,-18.788475565280816,-18.64957716701903,-21.982513661202187,-24.91745036572623,-19.344901227976507,-26.46064139941691,-16.573298429319372,-14.522975929978118,-17.825388323513657,-20.488948787061997,-22.44328280188186,-18.93441762854145,-16.56688241639698,-13.30670926517572,-18.197716346153847],[-0.1307053941908713,-16.999007936507937,-38.290650406504064,-30.82025819265144,-24.26659856996936,-26.491609081934847,-25.639473684210525,-25.76951219512195,-20.31113320079523,-26.312563840653727,-29.541501976284582,-26.005964214711728,-24.594298245614038,-22.3629191321499,-20.118488253319715,-20.012974051896208,-20.84560327198364,-23.01592039800995,-22.73313492063492,-22.13803680981595,-17.04278606965174,-21.730464326160817],[0.7321613236814891,-17.919980119284293,-42.526985743380855,-32.24195942602672,-23.868609406952967,-26.70483711747285,-25.057317073170733,-23.09385863267671,-18.68880079286422,-23.849308047155304,-30.981737413622906,-24.097029702970296,-22.980853391684903,-18.38274665344571,-19.86042944785276,-19.16575682382134,-20.57719836400818,-22.66304347826087,-20.153313550939664,-19.357690342360755,-14.336967294350842,-18.83200908059024],[-1.855555555555556,-19.365591397849464,-47.26111111111111,-37.96774193548387,-28.95,-29.827956989247312,-27.16149068322981,-26.457831325301203,-23.1989247311828,-28.05555555555556,-34.946236559139784,-30.21505376344086,-29.416666666666668,-25.446236559139784,-26.23333333333333,-23.897849462365592,-22.41111111111111,-27.086021505376344,-25.865591397849464,-23.3,-20.053763440860216,-24.358024691358025],[0.0307467057101024,-11.645365168539326,-34.78992805755396,-26.11056682995101,-21.4378612716763,-26.47284122562674,-23.87300094073377,-21.960069444444443,-18.21184668989547,-21.609985528219973,-25.282122905027933,-22.55034965034965,-18.97138437741686,-17.300069783670622,-19.26801152737752,-17.759272218334498,-18.30808080808081,-22.62064156206416,-18.95667365478686,-18.889689978370583,-14.251576734407848,-18.56661316211878],[-2.039274924471299,-14.325974025974023,-34.02125147579693,-28.238271604938276,-22.011180124223603,-24.42755344418052,-20.64785553047404,-17.632058287795992,-17.150753768844222,-22.11473272490221,-23.143727161997564,-17.14248366013072,-15.756569847856156,-14.495037220843672,-14.331151832460732,-16.619109947643977,-20.353960396039604,-20.7665418227216,-17.742537313432837,-15.582010582010582,-11.85997357992074,-17.43002915451895],[0.57265625,-12.50718761518614,-35.170984455958546,-25.20255009107468,-20.15114104002993,-24.529645697758497,-21.07730535615682,-18.614825581395348,-17.08021978021978,-20.08695652173913,-24.34861717612809,-19.11569638909359,-21.4239837398374,-14.830651060716898,-15.149564558879211,-16.370055452865063,-17.848793363499247,-20.235766423357664,-16.305178112376055,-16.44809362023405,-13.690862196020634,-15.730526315789474],[0.4776176024279211,-14.929289303661164,-33.48664741970408,-25.72982644480229,-23.377582739074786,-29.349456712232737,-26.68035808320169,-22.431139122315592,-20.074317133735367,-24.190940894862823,-26.60270602706027,-22.423510466988727,-28.16349362119725,-19.91400881057269,-18.949707388441844,-19.413117699910156,-24.464097436829668,-26.587550696526183,-22.93423391397085,-20.180262199563,-15.730355220667384,-20.95333739095151],[-1.652694610778443,-16.476394849785407,-38.46098265895954,-30.78757225433526,-25.918367346938776,-29.353023909985936,-27.012345679012345,-21.98715596330275,-19.32528409090909,-23.74926253687316,-26.698591549295774,-21.15251798561151,-17.849056603773583,-17.41068917018284,-18.814868804664723,-18.56896551724138,-24.805232558139537,-25.804255319148936,-22.285106382978725,-18.63280116110305,-16.217453505007153,-18.95169082125604],[-4.188405797101449,-19.87327188940092,-48.25115207373272,-38.26923076923077,-28.40855106888361,-29.64367816091954,-27.8978102189781,-22.16139240506329,-19.04225352112676,-24.2953995157385,-27.246511627906976,-24.685579196217493,-24.719072164948454,-22.983606557377048,-25.565947242206235,-25.971764705882357,-27.48095238095238,-30.37471264367816,-27.53146853146853,-25.08980582524272,-22.089622641509436,-27.131720430107528],[-0.0648364485981308,-15.225185592521308,-38.379834254143645,-32.642700929469655,-27.136198716159644,-29.536585365853657,-28.21964586846543,-25.475912408759125,-22.11092985318108,-25.6725113122172,-29.579557713052857,-26.954868708971556,-26.604727707959302,-21.02245670995671,-22.01284916201117,-20.97740424359328,-21.646943901758306,-24.39625711960944,-21.411283728536382,-20.364804469273743,-15.338043779440287,-20.60156006240249],[-1.2457142857142858,-19.24203821656051,-42.91944444444445,-34.02810516772439,-26.754948162111216,-29.30399274047187,-28.49482163406214,-27.401950162513543,-22.80128205128205,-27.12570888468809,-30.73049001814882,-27.493589743589745,-26.966565349544076,-22.98263254113345,-23.278564683663834,-21.589696412143518,-22.07466918714556,-25.309872029250457,-23.888990825688072,-22.22117202268431,-16.72099447513812,-22.38100208768267],[0.2163934426229508,-14.49272030651341,-36.97498104624716,-28.12033511043412,-22.0155159038014,-25.419955323901718,-23.61372299872935,-19.738478027867096,-16.937547600913938,-22.831118060985144,-26.15487714072971,-22.58747135217724,-22.390611902766132,-16.155068078668684,-16.672941176470587,-16.958171959721145,-21.611627906976743,-22.656367746797287,-20.363290175171365,-18.935358255451717,-14.126640926640926,-20.247404844290656],[1.5044776119402985,-14.201332698714898,-36.53217223028544,-28.60342368045649,-19.571499013806704,-22.14591254752852,-20.295409181636728,-18.758745476477685,-16.14272030651341,-22.35014836795252,-23.075865339023235,-18.24832214765101,-16.234020073956682,-15.113064133016628,-15.223587223587224,-14.937049495434888,-17.207639569049952,-19.184498335710888,-15.685016754427956,-15.362026561731431,-10.963443963443964,-17.537915984724496],[-0.4964028776978417,-14.882747068676716,-33.25,-25.00674536256324,-19.43127147766323,-22.564059900166388,-20.464912280701757,-16.81578947368421,-15.396933560477002,-21.77368421052632,-23.28855721393035,-16.90394511149228,-15.584415584415584,-17.88685524126456,-16.67986230636833,-18.57679180887372,-24.649241146711635,-24.540495867768595,-22.11111111111111,-20.244897959183675,-17.86846543001686,-21.900952380952383]]}],                        {\"height\":1000,\"template\":{\"data\":{\"bar\":[{\"error_x\":{\"color\":\"#2a3f5f\"},\"error_y\":{\"color\":\"#2a3f5f\"},\"marker\":{\"line\":{\"color\":\"#E5ECF6\",\"width\":0.5},\"pattern\":{\"fillmode\":\"overlay\",\"size\":10,\"solidity\":0.2}},\"type\":\"bar\"}],\"barpolar\":[{\"marker\":{\"line\":{\"color\":\"#E5ECF6\",\"width\":0.5},\"pattern\":{\"fillmode\":\"overlay\",\"size\":10,\"solidity\":0.2}},\"type\":\"barpolar\"}],\"carpet\":[{\"aaxis\":{\"endlinecolor\":\"#2a3f5f\",\"gridcolor\":\"white\",\"linecolor\":\"white\",\"minorgridcolor\":\"white\",\"startlinecolor\":\"#2a3f5f\"},\"baxis\":{\"endlinecolor\":\"#2a3f5f\",\"gridcolor\":\"white\",\"linecolor\":\"white\",\"minorgridcolor\":\"white\",\"startlinecolor\":\"#2a3f5f\"},\"type\":\"carpet\"}],\"choropleth\":[{\"colorbar\":{\"outlinewidth\":0,\"ticks\":\"\"},\"type\":\"choropleth\"}],\"contour\":[{\"colorbar\":{\"outlinewidth\":0,\"ticks\":\"\"},\"colorscale\":[[0.0,\"#0d0887\"],[0.1111111111111111,\"#46039f\"],[0.2222222222222222,\"#7201a8\"],[0.3333333333333333,\"#9c179e\"],[0.4444444444444444,\"#bd3786\"],[0.5555555555555556,\"#d8576b\"],[0.6666666666666666,\"#ed7953\"],[0.7777777777777778,\"#fb9f3a\"],[0.8888888888888888,\"#fdca26\"],[1.0,\"#f0f921\"]],\"type\":\"contour\"}],\"contourcarpet\":[{\"colorbar\":{\"outlinewidth\":0,\"ticks\":\"\"},\"type\":\"contourcarpet\"}],\"heatmap\":[{\"colorbar\":{\"outlinewidth\":0,\"ticks\":\"\"},\"colorscale\":[[0.0,\"#0d0887\"],[0.1111111111111111,\"#46039f\"],[0.2222222222222222,\"#7201a8\"],[0.3333333333333333,\"#9c179e\"],[0.4444444444444444,\"#bd3786\"],[0.5555555555555556,\"#d8576b\"],[0.6666666666666666,\"#ed7953\"],[0.7777777777777778,\"#fb9f3a\"],[0.8888888888888888,\"#fdca26\"],[1.0,\"#f0f921\"]],\"type\":\"heatmap\"}],\"heatmapgl\":[{\"colorbar\":{\"outlinewidth\":0,\"ticks\":\"\"},\"colorscale\":[[0.0,\"#0d0887\"],[0.1111111111111111,\"#46039f\"],[0.2222222222222222,\"#7201a8\"],[0.3333333333333333,\"#9c179e\"],[0.4444444444444444,\"#bd3786\"],[0.5555555555555556,\"#d8576b\"],[0.6666666666666666,\"#ed7953\"],[0.7777777777777778,\"#fb9f3a\"],[0.8888888888888888,\"#fdca26\"],[1.0,\"#f0f921\"]],\"type\":\"heatmapgl\"}],\"histogram\":[{\"marker\":{\"pattern\":{\"fillmode\":\"overlay\",\"size\":10,\"solidity\":0.2}},\"type\":\"histogram\"}],\"histogram2d\":[{\"colorbar\":{\"outlinewidth\":0,\"ticks\":\"\"},\"colorscale\":[[0.0,\"#0d0887\"],[0.1111111111111111,\"#46039f\"],[0.2222222222222222,\"#7201a8\"],[0.3333333333333333,\"#9c179e\"],[0.4444444444444444,\"#bd3786\"],[0.5555555555555556,\"#d8576b\"],[0.6666666666666666,\"#ed7953\"],[0.7777777777777778,\"#fb9f3a\"],[0.8888888888888888,\"#fdca26\"],[1.0,\"#f0f921\"]],\"type\":\"histogram2d\"}],\"histogram2dcontour\":[{\"colorbar\":{\"outlinewidth\":0,\"ticks\":\"\"},\"colorscale\":[[0.0,\"#0d0887\"],[0.1111111111111111,\"#46039f\"],[0.2222222222222222,\"#7201a8\"],[0.3333333333333333,\"#9c179e\"],[0.4444444444444444,\"#bd3786\"],[0.5555555555555556,\"#d8576b\"],[0.6666666666666666,\"#ed7953\"],[0.7777777777777778,\"#fb9f3a\"],[0.8888888888888888,\"#fdca26\"],[1.0,\"#f0f921\"]],\"type\":\"histogram2dcontour\"}],\"mesh3d\":[{\"colorbar\":{\"outlinewidth\":0,\"ticks\":\"\"},\"type\":\"mesh3d\"}],\"parcoords\":[{\"line\":{\"colorbar\":{\"outlinewidth\":0,\"ticks\":\"\"}},\"type\":\"parcoords\"}],\"pie\":[{\"automargin\":true,\"type\":\"pie\"}],\"scatter\":[{\"marker\":{\"colorbar\":{\"outlinewidth\":0,\"ticks\":\"\"}},\"type\":\"scatter\"}],\"scatter3d\":[{\"line\":{\"colorbar\":{\"outlinewidth\":0,\"ticks\":\"\"}},\"marker\":{\"colorbar\":{\"outlinewidth\":0,\"ticks\":\"\"}},\"type\":\"scatter3d\"}],\"scattercarpet\":[{\"marker\":{\"colorbar\":{\"outlinewidth\":0,\"ticks\":\"\"}},\"type\":\"scattercarpet\"}],\"scattergeo\":[{\"marker\":{\"colorbar\":{\"outlinewidth\":0,\"ticks\":\"\"}},\"type\":\"scattergeo\"}],\"scattergl\":[{\"marker\":{\"colorbar\":{\"outlinewidth\":0,\"ticks\":\"\"}},\"type\":\"scattergl\"}],\"scattermapbox\":[{\"marker\":{\"colorbar\":{\"outlinewidth\":0,\"ticks\":\"\"}},\"type\":\"scattermapbox\"}],\"scatterpolar\":[{\"marker\":{\"colorbar\":{\"outlinewidth\":0,\"ticks\":\"\"}},\"type\":\"scatterpolar\"}],\"scatterpolargl\":[{\"marker\":{\"colorbar\":{\"outlinewidth\":0,\"ticks\":\"\"}},\"type\":\"scatterpolargl\"}],\"scatterternary\":[{\"marker\":{\"colorbar\":{\"outlinewidth\":0,\"ticks\":\"\"}},\"type\":\"scatterternary\"}],\"surface\":[{\"colorbar\":{\"outlinewidth\":0,\"ticks\":\"\"},\"colorscale\":[[0.0,\"#0d0887\"],[0.1111111111111111,\"#46039f\"],[0.2222222222222222,\"#7201a8\"],[0.3333333333333333,\"#9c179e\"],[0.4444444444444444,\"#bd3786\"],[0.5555555555555556,\"#d8576b\"],[0.6666666666666666,\"#ed7953\"],[0.7777777777777778,\"#fb9f3a\"],[0.8888888888888888,\"#fdca26\"],[1.0,\"#f0f921\"]],\"type\":\"surface\"}],\"table\":[{\"cells\":{\"fill\":{\"color\":\"#EBF0F8\"},\"line\":{\"color\":\"white\"}},\"header\":{\"fill\":{\"color\":\"#C8D4E3\"},\"line\":{\"color\":\"white\"}},\"type\":\"table\"}]},\"layout\":{\"annotationdefaults\":{\"arrowcolor\":\"#2a3f5f\",\"arrowhead\":0,\"arrowwidth\":1},\"autotypenumbers\":\"strict\",\"coloraxis\":{\"colorbar\":{\"outlinewidth\":0,\"ticks\":\"\"}},\"colorscale\":{\"diverging\":[[0,\"#8e0152\"],[0.1,\"#c51b7d\"],[0.2,\"#de77ae\"],[0.3,\"#f1b6da\"],[0.4,\"#fde0ef\"],[0.5,\"#f7f7f7\"],[0.6,\"#e6f5d0\"],[0.7,\"#b8e186\"],[0.8,\"#7fbc41\"],[0.9,\"#4d9221\"],[1,\"#276419\"]],\"sequential\":[[0.0,\"#0d0887\"],[0.1111111111111111,\"#46039f\"],[0.2222222222222222,\"#7201a8\"],[0.3333333333333333,\"#9c179e\"],[0.4444444444444444,\"#bd3786\"],[0.5555555555555556,\"#d8576b\"],[0.6666666666666666,\"#ed7953\"],[0.7777777777777778,\"#fb9f3a\"],[0.8888888888888888,\"#fdca26\"],[1.0,\"#f0f921\"]],\"sequentialminus\":[[0.0,\"#0d0887\"],[0.1111111111111111,\"#46039f\"],[0.2222222222222222,\"#7201a8\"],[0.3333333333333333,\"#9c179e\"],[0.4444444444444444,\"#bd3786\"],[0.5555555555555556,\"#d8576b\"],[0.6666666666666666,\"#ed7953\"],[0.7777777777777778,\"#fb9f3a\"],[0.8888888888888888,\"#fdca26\"],[1.0,\"#f0f921\"]]},\"colorway\":[\"#636efa\",\"#EF553B\",\"#00cc96\",\"#ab63fa\",\"#FFA15A\",\"#19d3f3\",\"#FF6692\",\"#B6E880\",\"#FF97FF\",\"#FECB52\"],\"font\":{\"color\":\"#2a3f5f\"},\"geo\":{\"bgcolor\":\"white\",\"lakecolor\":\"white\",\"landcolor\":\"#E5ECF6\",\"showlakes\":true,\"showland\":true,\"subunitcolor\":\"white\"},\"hoverlabel\":{\"align\":\"left\"},\"hovermode\":\"closest\",\"mapbox\":{\"style\":\"light\"},\"paper_bgcolor\":\"white\",\"plot_bgcolor\":\"#E5ECF6\",\"polar\":{\"angularaxis\":{\"gridcolor\":\"white\",\"linecolor\":\"white\",\"ticks\":\"\"},\"bgcolor\":\"#E5ECF6\",\"radialaxis\":{\"gridcolor\":\"white\",\"linecolor\":\"white\",\"ticks\":\"\"}},\"scene\":{\"xaxis\":{\"backgroundcolor\":\"#E5ECF6\",\"gridcolor\":\"white\",\"gridwidth\":2,\"linecolor\":\"white\",\"showbackground\":true,\"ticks\":\"\",\"zerolinecolor\":\"white\"},\"yaxis\":{\"backgroundcolor\":\"#E5ECF6\",\"gridcolor\":\"white\",\"gridwidth\":2,\"linecolor\":\"white\",\"showbackground\":true,\"ticks\":\"\",\"zerolinecolor\":\"white\"},\"zaxis\":{\"backgroundcolor\":\"#E5ECF6\",\"gridcolor\":\"white\",\"gridwidth\":2,\"linecolor\":\"white\",\"showbackground\":true,\"ticks\":\"\",\"zerolinecolor\":\"white\"}},\"shapedefaults\":{\"line\":{\"color\":\"#2a3f5f\"}},\"ternary\":{\"aaxis\":{\"gridcolor\":\"white\",\"linecolor\":\"white\",\"ticks\":\"\"},\"baxis\":{\"gridcolor\":\"white\",\"linecolor\":\"white\",\"ticks\":\"\"},\"bgcolor\":\"#E5ECF6\",\"caxis\":{\"gridcolor\":\"white\",\"linecolor\":\"white\",\"ticks\":\"\"}},\"title\":{\"x\":0.05},\"xaxis\":{\"automargin\":true,\"gridcolor\":\"white\",\"linecolor\":\"white\",\"ticks\":\"\",\"title\":{\"standoff\":15},\"zerolinecolor\":\"white\",\"zerolinewidth\":2},\"yaxis\":{\"automargin\":true,\"gridcolor\":\"white\",\"linecolor\":\"white\",\"ticks\":\"\",\"title\":{\"standoff\":15},\"zerolinecolor\":\"white\",\"zerolinewidth\":2}}},\"title\":{\"text\":\"Google Mobility - Percent Change in Workplace Mobility (By State)\"},\"width\":600,\"xaxis\":{\"title\":{\"text\":\"Date\"}},\"yaxis\":{\"title\":{\"text\":\"State\"}}},                        {\"responsive\": true}                    ).then(function(){\n",
       "                            \n",
       "var gd = document.getElementById('1216da2a-241a-4597-84f9-5bcf338c1041');\n",
       "var x = new MutationObserver(function (mutations, observer) {{\n",
       "        var display = window.getComputedStyle(gd).display;\n",
       "        if (!display || display === 'none') {{\n",
       "            console.log([gd, 'removed!']);\n",
       "            Plotly.purge(gd);\n",
       "            observer.disconnect();\n",
       "        }}\n",
       "}});\n",
       "\n",
       "// Listen for the removal of the full notebook cells\n",
       "var notebookContainer = gd.closest('#notebook-container');\n",
       "if (notebookContainer) {{\n",
       "    x.observe(notebookContainer, {childList: true});\n",
       "}}\n",
       "\n",
       "// Listen for the clearing of the current output cell\n",
       "var outputEl = gd.closest('.output');\n",
       "if (outputEl) {{\n",
       "    x.observe(outputEl, {childList: true});\n",
       "}}\n",
       "\n",
       "                        })                };                });            </script>        </div>"
      ]
     },
     "metadata": {},
     "output_type": "display_data"
    }
   ],
   "source": [
    "#stateWorkData = pd.pivot_table(stateData, values='workplaces_percent_change_from_baseline', index=['sub_region_1'], columns=['month_year'])\n",
    "stateWork = go.Figure(\n",
    "            data=go.Heatmap(df_to_plotly(stateData[month_year]), type = 'heatmap', colorscale = 'rdbu'),\n",
    "            layout=go.Layout(width = 600,height = 1000, title=\"Google Mobility - Percent Change in Workplace Mobility (By State)\"))\n",
    "stateWork.update_layout(\n",
    "    xaxis_title='Date',\n",
    "    yaxis_title= 'State')\n",
    "stateWork.show()"
   ]
  },
  {
   "cell_type": "code",
   "execution_count": null,
   "id": "f6613814",
   "metadata": {},
   "outputs": [],
   "source": []
  },
  {
   "cell_type": "code",
   "execution_count": null,
   "id": "c07e24d9",
   "metadata": {},
   "outputs": [],
   "source": []
  }
 ],
 "metadata": {
  "kernelspec": {
   "display_name": "Python 3",
   "language": "python",
   "name": "python3"
  },
  "language_info": {
   "codemirror_mode": {
    "name": "ipython",
    "version": 3
   },
   "file_extension": ".py",
   "mimetype": "text/x-python",
   "name": "python",
   "nbconvert_exporter": "python",
   "pygments_lexer": "ipython3",
   "version": "3.8.8"
  }
 },
 "nbformat": 4,
 "nbformat_minor": 5
}
